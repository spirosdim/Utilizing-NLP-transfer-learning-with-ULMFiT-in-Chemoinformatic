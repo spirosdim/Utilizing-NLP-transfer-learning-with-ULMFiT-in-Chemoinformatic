{
 "cells": [
  {
   "cell_type": "markdown",
   "metadata": {
    "id": "CjdhWa5chsog"
   },
   "source": [
    "# Project: ULMFiT as a Chemistry Language Model"
   ]
  },
  {
   "cell_type": "markdown",
   "metadata": {
    "id": "piyWHz5FqIuI"
   },
   "source": [
    "In this notebook, we will use [ChEMBL 23](http://ftp.ebi.ac.uk/pub/databases/chembl/ChEMBLdb/releases/chembl_23/) dataset to train the Language Model (LM) on a self-supervised way.  ChEMBL 23 contains more than 1.5 million SMILES, we will train the Language Model to predict the next token. More specifically, we will model the probability of occuring an token given the previous m token."
   ]
  },
  {
   "cell_type": "markdown",
   "metadata": {},
   "source": [
    "## Acknowledgment\n",
    "\n",
    "**Most of the code is adapted fron the the work of [Xinhao Li](https://jcheminf.biomedcentral.com/articles/10.1186/s13321-020-00430-x) his [github](https://github.com/XinhaoLi74/MolPMoFiT) and [Marcos Santana](https://www.researchgate.net/publication/346223430_De_Novo_Design_and_Bioactivity_Prediction_of_SARS-CoV-2_Main_Protease_Inhibitors_Using_ULMFit) his [github](https://github.com/Marcosuff)**"
   ]
  },
  {
   "cell_type": "code",
   "execution_count": null,
   "metadata": {
    "colab": {
     "base_uri": "https://localhost:8080/"
    },
    "id": "9K19uXY0828o",
    "outputId": "1d0555b1-7781-478e-eed3-efa864fc0956"
   },
   "outputs": [
    {
     "name": "stdout",
     "output_type": "stream",
     "text": [
      "Mounted at /content/drive\n"
     ]
    }
   ],
   "source": [
    "from google.colab import drive\n",
    "drive.mount('/content/drive')"
   ]
  },
  {
   "cell_type": "code",
   "execution_count": null,
   "metadata": {
    "id": "Ud2i0wYqBAmE"
   },
   "outputs": [],
   "source": [
    "import pandas as pd\n",
    "import numpy as np\n",
    "from matplotlib import pyplot as plt\n",
    "import re\n",
    "import seaborn as sns\n",
    "sns.set()\n",
    "%matplotlib inline"
   ]
  },
  {
   "cell_type": "markdown",
   "metadata": {
    "id": "4xp4bRwEiqF3"
   },
   "source": [
    "## Data Loader"
   ]
  },
  {
   "cell_type": "code",
   "execution_count": null,
   "metadata": {
    "id": "P4bTfyr5Fcw4"
   },
   "outputs": [],
   "source": [
    "!pip install fastai==2.1.4\n",
    "!pip install fastcore==1.3.1"
   ]
  },
  {
   "cell_type": "code",
   "execution_count": null,
   "metadata": {
    "colab": {
     "base_uri": "https://localhost:8080/"
    },
    "id": "kTicwhQDFdK5",
    "outputId": "aea1941b-573a-49f4-eb06-d8dedca02fd3"
   },
   "outputs": [
    {
     "name": "stdout",
     "output_type": "stream",
     "text": [
      "2.1.4\n"
     ]
    }
   ],
   "source": [
    "import fastai\n",
    "print(fastai.__version__)\n",
    "\n",
    "from fastai.text.all import *"
   ]
  },
  {
   "cell_type": "code",
   "execution_count": null,
   "metadata": {
    "colab": {
     "base_uri": "https://localhost:8080/"
    },
    "id": "xB5yg03sp0xk",
    "outputId": "454d97ef-b0cd-4253-cf3c-49f5ed5bc353"
   },
   "outputs": [
    {
     "name": "stdout",
     "output_type": "stream",
     "text": [
      "Tesla P100-PCIE-16GB\n"
     ]
    }
   ],
   "source": [
    "import torch\n",
    "print(torch.cuda.get_device_name(0))"
   ]
  },
  {
   "cell_type": "code",
   "execution_count": null,
   "metadata": {
    "id": "tB90lBy7ldxd"
   },
   "outputs": [],
   "source": [
    "chembl = pd.read_csv('/content/drive/My Drive/Colab Notebooks/chembl23_sub200.csv')"
   ]
  },
  {
   "cell_type": "code",
   "execution_count": null,
   "metadata": {
    "colab": {
     "base_uri": "https://localhost:8080/"
    },
    "id": "vjoKhL2RB4Az",
    "outputId": "0baaf5b9-d96a-4a57-e60a-12e6562d5666"
   },
   "outputs": [
    {
     "data": {
      "text/plain": [
       "1717282"
      ]
     },
     "execution_count": 7,
     "metadata": {
      "tags": []
     },
     "output_type": "execute_result"
    }
   ],
   "source": [
    "# Number of SMILES in ChEMBL23\n",
    "len(chembl)"
   ]
  },
  {
   "cell_type": "code",
   "execution_count": null,
   "metadata": {
    "id": "jDavY8LknAzd"
   },
   "outputs": [],
   "source": [
    "chembl.rename(columns={\"chembl_id\": \"chembl_id\", \"canonical_smiles\": \"Smiles\", \"vect_smiles\": \"vect_smiles\"}, inplace=True)"
   ]
  },
  {
   "cell_type": "code",
   "execution_count": null,
   "metadata": {
    "id": "BA4sMEi4VgJa"
   },
   "outputs": [],
   "source": [
    "# WE TAKE A SUBSET OF ChEMBL23, IN ORDER TO TRAIN QUICKER\n",
    "id_chose = np.random.choice(len(chembl),size=1_000_000, replace=False)\n",
    "\n",
    "chembl = chembl.iloc[id_chose]"
   ]
  },
  {
   "cell_type": "code",
   "execution_count": null,
   "metadata": {
    "colab": {
     "base_uri": "https://localhost:8080/",
     "height": 548
    },
    "id": "M_Areyz4l-tb",
    "outputId": "2b168c49-0e13-475b-c28d-76af01381d9a"
   },
   "outputs": [
    {
     "data": {
      "text/html": [
       "<div>\n",
       "<style scoped>\n",
       "    .dataframe tbody tr th:only-of-type {\n",
       "        vertical-align: middle;\n",
       "    }\n",
       "\n",
       "    .dataframe tbody tr th {\n",
       "        vertical-align: top;\n",
       "    }\n",
       "\n",
       "    .dataframe thead th {\n",
       "        text-align: right;\n",
       "    }\n",
       "</style>\n",
       "<table border=\"1\" class=\"dataframe\">\n",
       "  <thead>\n",
       "    <tr style=\"text-align: right;\">\n",
       "      <th></th>\n",
       "      <th>chembl_id</th>\n",
       "      <th>Smiles</th>\n",
       "      <th>vect_smiles</th>\n",
       "    </tr>\n",
       "  </thead>\n",
       "  <tbody>\n",
       "    <tr>\n",
       "      <th>1031110</th>\n",
       "      <td>CHEMBL1713601</td>\n",
       "      <td>Clc1ccccc1C(=O)N(Cc2ccc(Br)cc2)N3C(=O)CCCC3=O</td>\n",
       "      <td>['Cl', 'c', '1', 'c', 'c', 'c', 'c', 'c', '1', 'C', '(', '=', 'O', ')', 'N', '(', 'C', 'c', '2', 'c', 'c', 'c', '(', 'Br', ')', 'c', 'c', '2', ')', 'N', '3', 'C', '(', '=', 'O', ')', 'C', 'C', 'C', 'C', '3', '=', 'O']</td>\n",
       "    </tr>\n",
       "    <tr>\n",
       "      <th>1412307</th>\n",
       "      <td>CHEMBL3229422</td>\n",
       "      <td>Br.NCc1cc(C(=O)N)n(n1)[C@@H]2O[C@H](CO)[C@@H](O)[C@H]2O</td>\n",
       "      <td>['Br', '.', 'N', 'C', 'c', '1', 'c', 'c', '(', 'C', '(', '=', 'O', ')', 'N', ')', 'n', '(', 'n', '1', ')', '[C@@H]', '2', 'O', '[C@H]', '(', 'C', 'O', ')', '[C@@H]', '(', 'O', ')', '[C@H]', '2', 'O']</td>\n",
       "    </tr>\n",
       "    <tr>\n",
       "      <th>400284</th>\n",
       "      <td>CHEMBL465248</td>\n",
       "      <td>C[C@H]1CCC\\C(=C\\CC[C@@]2(C)O[C@H]2C[C@@H]3[C@@H](OC(=O)C3=C)[C@@H]1O)\\C</td>\n",
       "      <td>['C', '[C@H]', '1', 'C', 'C', 'C', '\\\\', 'C', '(', '=', 'C', '\\\\', 'C', 'C', '[C@@]', '2', '(', 'C', ')', 'O', '[C@H]', '2', 'C', '[C@@H]', '3', '[C@@H]', '(', 'O', 'C', '(', '=', 'O', ')', 'C', '3', '=', 'C', ')', '[C@@H]', '1', 'O', ')', '\\\\', 'C']</td>\n",
       "    </tr>\n",
       "    <tr>\n",
       "      <th>344375</th>\n",
       "      <td>CHEMBL397312</td>\n",
       "      <td>CC(C)N1C[C@@H]([C@H](C1)c2ccc(Cl)cc2)C(=O)N3CCN(CC3)C4(CNCc5cocc5)CCCCC4</td>\n",
       "      <td>['C', 'C', '(', 'C', ')', 'N', '1', 'C', '[C@@H]', '(', '[C@H]', '(', 'C', '1', ')', 'c', '2', 'c', 'c', 'c', '(', 'Cl', ')', 'c', 'c', '2', ')', 'C', '(', '=', 'O', ')', 'N', '3', 'C', 'C', 'N', '(', 'C', 'C', '3', ')', 'C', '4', '(', 'C', 'N', 'C', 'c', '5', 'c', 'o', 'c', 'c', '5', ')', 'C', 'C', 'C', 'C', 'C', '4']</td>\n",
       "    </tr>\n",
       "    <tr>\n",
       "      <th>495651</th>\n",
       "      <td>CHEMBL558255</td>\n",
       "      <td>FC(F)(F)c1cccc(c1)C(=O)c2ccc3ccccc3n2</td>\n",
       "      <td>['F', 'C', '(', 'F', ')', '(', 'F', ')', 'c', '1', 'c', 'c', 'c', 'c', '(', 'c', '1', ')', 'C', '(', '=', 'O', ')', 'c', '2', 'c', 'c', 'c', '3', 'c', 'c', 'c', 'c', 'c', '3', 'n', '2']</td>\n",
       "    </tr>\n",
       "  </tbody>\n",
       "</table>\n",
       "</div>"
      ],
      "text/plain": [
       "             chembl_id  ...                                                                                                                                                                                                                                                                                                                       vect_smiles\n",
       "1031110  CHEMBL1713601  ...                                                                                                         ['Cl', 'c', '1', 'c', 'c', 'c', 'c', 'c', '1', 'C', '(', '=', 'O', ')', 'N', '(', 'C', 'c', '2', 'c', 'c', 'c', '(', 'Br', ')', 'c', 'c', '2', ')', 'N', '3', 'C', '(', '=', 'O', ')', 'C', 'C', 'C', 'C', '3', '=', 'O']\n",
       "1412307  CHEMBL3229422  ...                                                                                                                           ['Br', '.', 'N', 'C', 'c', '1', 'c', 'c', '(', 'C', '(', '=', 'O', ')', 'N', ')', 'n', '(', 'n', '1', ')', '[C@@H]', '2', 'O', '[C@H]', '(', 'C', 'O', ')', '[C@@H]', '(', 'O', ')', '[C@H]', '2', 'O']\n",
       "400284    CHEMBL465248  ...                                                                        ['C', '[C@H]', '1', 'C', 'C', 'C', '\\\\', 'C', '(', '=', 'C', '\\\\', 'C', 'C', '[C@@]', '2', '(', 'C', ')', 'O', '[C@H]', '2', 'C', '[C@@H]', '3', '[C@@H]', '(', 'O', 'C', '(', '=', 'O', ')', 'C', '3', '=', 'C', ')', '[C@@H]', '1', 'O', ')', '\\\\', 'C']\n",
       "344375    CHEMBL397312  ...  ['C', 'C', '(', 'C', ')', 'N', '1', 'C', '[C@@H]', '(', '[C@H]', '(', 'C', '1', ')', 'c', '2', 'c', 'c', 'c', '(', 'Cl', ')', 'c', 'c', '2', ')', 'C', '(', '=', 'O', ')', 'N', '3', 'C', 'C', 'N', '(', 'C', 'C', '3', ')', 'C', '4', '(', 'C', 'N', 'C', 'c', '5', 'c', 'o', 'c', 'c', '5', ')', 'C', 'C', 'C', 'C', 'C', '4']\n",
       "495651    CHEMBL558255  ...                                                                                                                                         ['F', 'C', '(', 'F', ')', '(', 'F', ')', 'c', '1', 'c', 'c', 'c', 'c', '(', 'c', '1', ')', 'C', '(', '=', 'O', ')', 'c', '2', 'c', 'c', 'c', '3', 'c', 'c', 'c', 'c', 'c', '3', 'n', '2']\n",
       "\n",
       "[5 rows x 3 columns]"
      ]
     },
     "execution_count": 10,
     "metadata": {
      "tags": []
     },
     "output_type": "execute_result"
    }
   ],
   "source": [
    "chembl.head()"
   ]
  },
  {
   "cell_type": "code",
   "execution_count": null,
   "metadata": {
    "id": "XZX0mtyBh_l7"
   },
   "outputs": [],
   "source": [
    "class MolTokenizer_v2():\n",
    "  #source: https://github.com/Marcosuff/Marcosuff.github.io/tree/master/fastaiv2_works\n",
    "  def tokenize_mols(self, t):\n",
    "    pat = '(\\[.*?\\])' # Find special enviroments (e.g., [CH],[NH] etc)\n",
    "    tokens = []\n",
    "    t = t.replace('Br','L').replace('Cl','X') # Replace halogens\n",
    "    atom_list = re.split(pat,t)\n",
    "    for s in atom_list:\n",
    "      if s.startswith('['):\n",
    "        tokens.append(s)\n",
    "      else:\n",
    "        tokens += [x for x in list(s)]\n",
    "    tokens = [x.replace('L','Br').replace('X','Cl') for x in tokens] # Decode halogens\n",
    "    return [BOS] + tokens\n",
    "\n",
    "  def __call__(self, items): return (self.tokenize_mols(t) for t in items)"
   ]
  },
  {
   "cell_type": "code",
   "execution_count": null,
   "metadata": {
    "id": "DkxhzKWGiko_"
   },
   "outputs": [],
   "source": [
    "defaults.text_spec_tok\n",
    "spec_toks = [BOS, PAD]"
   ]
  },
  {
   "cell_type": "code",
   "execution_count": null,
   "metadata": {
    "colab": {
     "base_uri": "https://localhost:8080/",
     "height": 280
    },
    "id": "2-yjYgAG9D3g",
    "outputId": "7a9872e0-ca8b-4251-f375-c10e4ee0bfaf"
   },
   "outputs": [
    {
     "data": {
      "text/html": [],
      "text/plain": [
       "<IPython.core.display.HTML object>"
      ]
     },
     "metadata": {
      "tags": []
     },
     "output_type": "display_data"
    },
    {
     "data": {
      "text/html": [
       "<table border=\"1\" class=\"dataframe\">\n",
       "  <thead>\n",
       "    <tr style=\"text-align: right;\">\n",
       "      <th></th>\n",
       "      <th>text</th>\n",
       "      <th>text_</th>\n",
       "    </tr>\n",
       "  </thead>\n",
       "  <tbody>\n",
       "    <tr>\n",
       "      <th>0</th>\n",
       "      <td>xxbos O c 1 c c c ( c c 1 ) c 2 o c c ( C N 3 C C C C C C 3 ) n 2 xxbos O C ( = O ) c 1 c c c c ( C c 2 c c</td>\n",
       "      <td>O c 1 c c c ( c c 1 ) c 2 o c c ( C N 3 C C C C C C 3 ) n 2 xxbos O C ( = O ) c 1 c c c c ( C c 2 c c c</td>\n",
       "    </tr>\n",
       "    <tr>\n",
       "      <th>1</th>\n",
       "      <td>O ) N c 4 c c c c c 4 Br xxbos O = C ( N c 1 c c c c c 1 ) \\ C = C \\ c 2 c c c 3 [nH] c 4 c ( C C ( = O ) N</td>\n",
       "      <td>) N c 4 c c c c c 4 Br xxbos O = C ( N c 1 c c c c c 1 ) \\ C = C \\ c 2 c c c 3 [nH] c 4 c ( C C ( = O ) N c</td>\n",
       "    </tr>\n",
       "    <tr>\n",
       "      <th>2</th>\n",
       "      <td>4 ) n 5 C C C c 6 c c c c 3 c 5 6 ) C C 2 xxbos C c 1 c c c ( c c 1 ) S ( = O ) ( = O ) n 2 c c ( \\ C =</td>\n",
       "      <td>) n 5 C C C c 6 c c c c 3 c 5 6 ) C C 2 xxbos C c 1 c c c ( c c 1 ) S ( = O ) ( = O ) n 2 c c ( \\ C = N</td>\n",
       "    </tr>\n",
       "    <tr>\n",
       "      <th>3</th>\n",
       "      <td>) N C C c 3 c c c c c 3 ) C ( = O ) O ) C 2 xxbos C O c 1 c c c ( c c 1 ) [C@H] 2 C C ( = O ) C [C@@H] ( C C n 3</td>\n",
       "      <td>N C C c 3 c c c c c 3 ) C ( = O ) O ) C 2 xxbos C O c 1 c c c ( c c 1 ) [C@H] 2 C C ( = O ) C [C@@H] ( C C n 3 c</td>\n",
       "    </tr>\n",
       "    <tr>\n",
       "      <th>4</th>\n",
       "      <td>3 ) c c 1 2 ) c 4 c c c c ( c 4 ) C # N xxbos C S C C [C@H] ( N C ( = O ) [C@H] ( C ) N C ( = O ) [C@H] ( C C C C N</td>\n",
       "      <td>) c c 1 2 ) c 4 c c c c ( c 4 ) C # N xxbos C S C C [C@H] ( N C ( = O ) [C@H] ( C ) N C ( = O ) [C@H] ( C C C C N (</td>\n",
       "    </tr>\n",
       "  </tbody>\n",
       "</table>"
      ],
      "text/plain": [
       "<IPython.core.display.HTML object>"
      ]
     },
     "metadata": {
      "tags": []
     },
     "output_type": "display_data"
    }
   ],
   "source": [
    "d_block = DataBlock(blocks=TextBlock.from_df('Smiles',tok_text_col='Smiles',is_lm=True, # Pass is_lm = True since we are training a language model.\n",
    "                                             tok=MolTokenizer_v2(), rules=[], min_freq=1), # Our tokenizer goes here and we define a minimum of 1\n",
    "                    get_x=ColReader('Smiles'),\n",
    "                    splitter=RandomSplitter(0.1)) # Randomply split the data (e.g., 90% for training and 10% for validation)\n",
    "dls = d_block.dataloaders(chembl, bs=128, seq_len=50)\n",
    "dls.show_batch(max_n=5)"
   ]
  },
  {
   "cell_type": "code",
   "execution_count": null,
   "metadata": {
    "id": "mrSgdC6js3-y"
   },
   "outputs": [],
   "source": [
    "pickle_out = open(\"/content/drive/My Drive/Colab Notebooks/ChemLM_DLoader_1M.pkl\",\"wb\")\n",
    "pickle.dump(dls, pickle_out)\n",
    "pickle_out.close()"
   ]
  },
  {
   "cell_type": "markdown",
   "metadata": {
    "id": "KgQ7YWGGjzm9"
   },
   "source": [
    "# Model: ULMFiT"
   ]
  },
  {
   "cell_type": "markdown",
   "metadata": {
    "id": "IhtZuPlB1vF8"
   },
   "source": [
    "We will follow the Universal Language Model Fine-tuning (ULMFiT) by Howard and Ruber and adapt it in a Chemistry language SMILES. More specifically, we will use the AWD-LSTM (Averaged stochastic gradient descent Weight-Dropped LSTM) which is a variation of the Long Sort-Term Memory model (LSTM) with various kinds of dropouts in embedding layer, input layer, weights, and hidden layers."
   ]
  },
  {
   "cell_type": "markdown",
   "metadata": {
    "id": "x9Z7-wDYSJdC"
   },
   "source": [
    "![lstm](https://colah.github.io/posts/2015-08-Understanding-LSTMs/img/LSTM3-chain.png)\n",
    "\n",
    "![lstm legend](https://colah.github.io/posts/2015-08-Understanding-LSTMs/img/LSTM2-notation.png)\n",
    "\n",
    "source: https://colah.github.io/posts/2015-08-Understanding-LSTMs/  by Christopher Olah"
   ]
  },
  {
   "cell_type": "markdown",
   "metadata": {
    "id": "aspIo5oyNaNc"
   },
   "source": [
    "The explanations and equations for the LSTMs are based on: the course of Stanford University [\"CS 230 - Deep Learning\"](https://stanford.edu/~shervine/teaching/cs-230/cheatsheet-recurrent-neural-networks) on the section of RNNs, and on the blogpost [\"Understanding LSTMs\"](https://colah.github.io/posts/2015-08-Understanding-LSTMs/) by Christopher Olah. Bellow we use $<t>$ to denote time step t, $\\widetilde{c}^{<t>}$ is the candidate value for the memory cell at time step t and $c^{<t>}$ is the memory cell at time step t. The notation $[h^{<t-1>},x^{<t>}]$ denotes the two vectors $h^{<t-1>}$ (the hidden state at time step t-1) and $x^{<t>}$ (the input vector at time step t) stuck one on top of the other to create a long vector. Using the notation of the two stacked vectors makes easier to see the feed-forward layers. The parameters to learn are the four weight matrices $W_c$, $W_u$, $W_f$ and $W_o$ with their corresponding biases $b_c$, $b_u$, $b_f$ and $b_o$. \n",
    "\n",
    "<br>\n",
    "\n",
    "* First, the \"forget gate layer\" $f^{<t>}$ decide the information that will be dropped from the cell state. It takes as input the concatenation of the vectors $h^{<t-1>}$ and $x^{<t>}$ and passes it through the sigmoid function, the output is then between 0 and 1; the closer to 1 is the more information passes through. \n",
    "$$f^{<t>}=\\sigma(W_f[h^{<t-1>},x^{<t>}]+b_f)$$\n",
    "\n",
    "<br>\n",
    "\n",
    "* Next the \"input gate layer\" $i^{<t>}$ define which values will be updated. \n",
    "$$i^{<t>}=\\sigma(W_u[h^{<t-1>},x^{<t>}]+b_u)$$\n",
    "\n",
    "<br/>\n",
    "\n",
    "* The \"update candidate cell layer\" creates the candidate cell values $\\widetilde{c}^{<t>}$ that could be added to the cell. \n",
    "$$\\widetilde{c}^{<t>}=\\tanh(W_c[h^{<t-1>},x^{<t>}]+b_c)$$\n",
    "\n",
    "<br/>\n",
    "\n",
    "* Now we can update the old memory cell by adding the $f^{<t>} \\odot c^{<t-1>}$ with $i^{<t>} \\odot \\widetilde{c}^{<t>}$, where the symbol $\\odot$ denotes the element wise multiplication.\n",
    "$$c^{<t>}=f^{<t>} \\odot c^{<t-1>}+i^{<t>} \\odot \\widetilde{c}^{<t>}$$\n",
    "\n",
    "<br/>\n",
    "\n",
    "* Finally, the \"output gate layer\" $o^{<t>}$ will multiplied element wise with the tanh of cell state; in order to filter it to produce the next hidden state. \n",
    "$$o^{<t>}=\\sigma(W_o[h^{<t-1>},x^{<t>}]+b_o) $$\n",
    "$$h^{<t>}=o^{<t>} \\odot \\tanh(c^{<t>})$$"
   ]
  },
  {
   "cell_type": "code",
   "execution_count": null,
   "metadata": {
    "id": "HqwbuC07kSth"
   },
   "outputs": [],
   "source": [
    "class LikeULMFit(Module):\n",
    "    def __init__(self, vocab_sz, emb_sz, n_hidden, n_layers, p):\n",
    "        self.i_h = nn.Embedding(vocab_sz, emb_sz)\n",
    "        self.rnn = nn.LSTM(emb_sz, n_hidden, n_layers, batch_first=True)\n",
    "        self.drop = nn.Dropout(p)\n",
    "        self.h_o = nn.Linear(n_hidden, vocab_sz)\n",
    "        self.h_o.weight = self.i_h.weight  # weight tying\n",
    "        self.h = [torch.zeros(n_layers, bs, n_hidden) for _ in range(n_layers)]\n",
    "        \n",
    "    def forward(self, x):\n",
    "        raw,h = self.rnn(self.i_h(x), self.h)\n",
    "        out = self.drop(raw)\n",
    "        self.h = [h_.detach() for h_ in h] # truncated BPTT\n",
    "        return self.h_o(out),raw,out\n",
    "    \n",
    "    def reset(self): #we call reset() in the start of each epoch\n",
    "        for h in self.h: h.zero_()"
   ]
  },
  {
   "cell_type": "code",
   "execution_count": null,
   "metadata": {
    "id": "wnn8X4V8l245"
   },
   "outputs": [],
   "source": [
    "# learn = Learner(dls, AWD_LSTM(vocab_sz=len(vocab),emb_sz=64, n_hid=64, n_layers=2, weight_p=0.5),\n",
    "#                 loss_func=CrossEntropyLossFlat(), metrics=accuracy,\n",
    "#                 cbs=[ModelResetter, RNNRegularizer(alpha=2, beta=1)]) # .to_fp16()"
   ]
  },
  {
   "cell_type": "code",
   "execution_count": null,
   "metadata": {
    "id": "N0uWHo7vjzMw"
   },
   "outputs": [],
   "source": [
    "# if we want to use less hidden nodes\n",
    "# config = awd_lstm_lm_config.copy()\n",
    "# config.update({'n_hid':512})"
   ]
  },
  {
   "cell_type": "code",
   "execution_count": null,
   "metadata": {
    "colab": {
     "base_uri": "https://localhost:8080/"
    },
    "id": "x-YtjaPfDGFz",
    "outputId": "b3d21fb4-70a3-4523-9d99-32ef6e16a934"
   },
   "outputs": [
    {
     "data": {
      "text/plain": [
       "{'bidir': False,\n",
       " 'emb_sz': 400,\n",
       " 'embed_p': 0.02,\n",
       " 'hidden_p': 0.15,\n",
       " 'input_p': 0.25,\n",
       " 'n_hid': 1152,\n",
       " 'n_layers': 3,\n",
       " 'out_bias': True,\n",
       " 'output_p': 0.1,\n",
       " 'pad_token': 1,\n",
       " 'tie_weights': True,\n",
       " 'weight_p': 0.2}"
      ]
     },
     "execution_count": 18,
     "metadata": {
      "tags": []
     },
     "output_type": "execute_result"
    }
   ],
   "source": [
    "awd_lstm_lm_config"
   ]
  },
  {
   "cell_type": "code",
   "execution_count": null,
   "metadata": {
    "id": "v6agOD6nj38A"
   },
   "outputs": [],
   "source": [
    "learn = language_model_learner(dls,AWD_LSTM,drop_mult=0.3, #,config=config\n",
    "                               pretrained=False,metrics=[accuracy, Perplexity()]).to_fp16()"
   ]
  },
  {
   "cell_type": "code",
   "execution_count": null,
   "metadata": {
    "colab": {
     "base_uri": "https://localhost:8080/"
    },
    "id": "EzRk-glI91yN",
    "outputId": "20ae780b-0aac-4c03-8e6c-763be2ceb0d0"
   },
   "outputs": [
    {
     "data": {
      "text/plain": [
       "SequentialRNN(\n",
       "  (0): AWD_LSTM(\n",
       "    (encoder): Embedding(240, 400, padding_idx=1)\n",
       "    (encoder_dp): EmbeddingDropout(\n",
       "      (emb): Embedding(240, 400, padding_idx=1)\n",
       "    )\n",
       "    (rnns): ModuleList(\n",
       "      (0): WeightDropout(\n",
       "        (module): LSTM(400, 1152, batch_first=True)\n",
       "      )\n",
       "      (1): WeightDropout(\n",
       "        (module): LSTM(1152, 1152, batch_first=True)\n",
       "      )\n",
       "      (2): WeightDropout(\n",
       "        (module): LSTM(1152, 400, batch_first=True)\n",
       "      )\n",
       "    )\n",
       "    (input_dp): RNNDropout()\n",
       "    (hidden_dps): ModuleList(\n",
       "      (0): RNNDropout()\n",
       "      (1): RNNDropout()\n",
       "      (2): RNNDropout()\n",
       "    )\n",
       "  )\n",
       "  (1): LinearDecoder(\n",
       "    (decoder): Linear(in_features=400, out_features=240, bias=True)\n",
       "    (output_dp): RNNDropout()\n",
       "  )\n",
       ")"
      ]
     },
     "execution_count": 21,
     "metadata": {
      "tags": []
     },
     "output_type": "execute_result"
    }
   ],
   "source": [
    "learn.model"
   ]
  },
  {
   "cell_type": "code",
   "execution_count": null,
   "metadata": {
    "colab": {
     "base_uri": "https://localhost:8080/",
     "height": 308
    },
    "id": "hYn3U3IEndoY",
    "outputId": "93ca8ebe-7d74-43a7-c974-581ee6aab355"
   },
   "outputs": [
    {
     "data": {
      "text/html": [],
      "text/plain": [
       "<IPython.core.display.HTML object>"
      ]
     },
     "metadata": {
      "tags": []
     },
     "output_type": "display_data"
    },
    {
     "data": {
      "text/plain": [
       "SuggestedLRs(lr_min=0.012022644281387329, lr_steep=0.0010000000474974513)"
      ]
     },
     "execution_count": 26,
     "metadata": {
      "tags": []
     },
     "output_type": "execute_result"
    },
    {
     "data": {
      "image/png": "[encoded data removed]",
      "text/plain": [
       "<Figure size 432x288 with 1 Axes>"
      ]
     },
     "metadata": {
      "needs_background": "light",
      "tags": []
     },
     "output_type": "display_data"
    }
   ],
   "source": [
    "learn.lr_find()"
   ]
  },
  {
   "cell_type": "code",
   "execution_count": null,
   "metadata": {
    "colab": {
     "base_uri": "https://localhost:8080/",
     "height": 375
    },
    "id": "hwr_hkY4j5Hn",
    "outputId": "fc35ed35-cbec-4a7c-bc72-ad6f1530fedd"
   },
   "outputs": [
    {
     "data": {
      "text/html": [
       "<table border=\"1\" class=\"dataframe\">\n",
       "  <thead>\n",
       "    <tr style=\"text-align: left;\">\n",
       "      <th>epoch</th>\n",
       "      <th>train_loss</th>\n",
       "      <th>valid_loss</th>\n",
       "      <th>accuracy</th>\n",
       "      <th>perplexity</th>\n",
       "      <th>time</th>\n",
       "    </tr>\n",
       "  </thead>\n",
       "  <tbody>\n",
       "    <tr>\n",
       "      <td>0</td>\n",
       "      <td>0.808705</td>\n",
       "      <td>0.744430</td>\n",
       "      <td>0.751432</td>\n",
       "      <td>2.105241</td>\n",
       "      <td>42:06</td>\n",
       "    </tr>\n",
       "    <tr>\n",
       "      <td>1</td>\n",
       "      <td>0.645287</td>\n",
       "      <td>0.609034</td>\n",
       "      <td>0.792754</td>\n",
       "      <td>1.838655</td>\n",
       "      <td>41:58</td>\n",
       "    </tr>\n",
       "    <tr>\n",
       "      <td>2</td>\n",
       "      <td>0.596357</td>\n",
       "      <td>0.565785</td>\n",
       "      <td>0.806603</td>\n",
       "      <td>1.760829</td>\n",
       "      <td>42:04</td>\n",
       "    </tr>\n",
       "    <tr>\n",
       "      <td>3</td>\n",
       "      <td>0.564727</td>\n",
       "      <td>0.542389</td>\n",
       "      <td>0.814403</td>\n",
       "      <td>1.720111</td>\n",
       "      <td>41:57</td>\n",
       "    </tr>\n",
       "    <tr>\n",
       "      <td>4</td>\n",
       "      <td>0.547245</td>\n",
       "      <td>0.525931</td>\n",
       "      <td>0.819887</td>\n",
       "      <td>1.692033</td>\n",
       "      <td>41:59</td>\n",
       "    </tr>\n",
       "    <tr>\n",
       "      <td>5</td>\n",
       "      <td>0.530607</td>\n",
       "      <td>0.510794</td>\n",
       "      <td>0.825182</td>\n",
       "      <td>1.666614</td>\n",
       "      <td>41:59</td>\n",
       "    </tr>\n",
       "    <tr>\n",
       "      <td>6</td>\n",
       "      <td>0.507727</td>\n",
       "      <td>0.496234</td>\n",
       "      <td>0.830005</td>\n",
       "      <td>1.642525</td>\n",
       "      <td>42:05</td>\n",
       "    </tr>\n",
       "    <tr>\n",
       "      <td>7</td>\n",
       "      <td>0.486917</td>\n",
       "      <td>0.483895</td>\n",
       "      <td>0.834285</td>\n",
       "      <td>1.622381</td>\n",
       "      <td>42:12</td>\n",
       "    </tr>\n",
       "    <tr>\n",
       "      <td>8</td>\n",
       "      <td>0.480076</td>\n",
       "      <td>0.475347</td>\n",
       "      <td>0.837316</td>\n",
       "      <td>1.608572</td>\n",
       "      <td>42:08</td>\n",
       "    </tr>\n",
       "    <tr>\n",
       "      <td>9</td>\n",
       "      <td>0.461619</td>\n",
       "      <td>0.471243</td>\n",
       "      <td>0.838832</td>\n",
       "      <td>1.601984</td>\n",
       "      <td>42:05</td>\n",
       "    </tr>\n",
       "    <tr>\n",
       "      <td>10</td>\n",
       "      <td>0.456911</td>\n",
       "      <td>0.470662</td>\n",
       "      <td>0.839091</td>\n",
       "      <td>1.601054</td>\n",
       "      <td>41:58</td>\n",
       "    </tr>\n",
       "  </tbody>\n",
       "</table>"
      ],
      "text/plain": [
       "<IPython.core.display.HTML object>"
      ]
     },
     "metadata": {
      "tags": []
     },
     "output_type": "display_data"
    }
   ],
   "source": [
    "learn.fit_one_cycle(11, 0.001)"
   ]
  },
  {
   "cell_type": "code",
   "execution_count": null,
   "metadata": {
    "colab": {
     "base_uri": "https://localhost:8080/"
    },
    "id": "RF7LHnQNJMdM",
    "outputId": "a5aab307-5fe1-4890-8165-f757799cab4b"
   },
   "outputs": [
    {
     "data": {
      "text/plain": [
       "Path('/content/drive/My Drive/Colab Notebooks/Projects_Mol_ULMFiT/ChemLMModel_11ep_FullAWDLSTM.pth')"
      ]
     },
     "execution_count": 28,
     "metadata": {
      "tags": []
     },
     "output_type": "execute_result"
    }
   ],
   "source": [
    "learn.save('/content/drive/My Drive/Colab Notebooks/ChemLMModel_11ep_FullAWDLSTM')"
   ]
  },
  {
   "cell_type": "code",
   "execution_count": null,
   "metadata": {
    "id": "yMuYg09mJNoH"
   },
   "outputs": [],
   "source": [
    "pickle_out = open(\"/content/drive/My Drive/Colab Notebooks/vocab_11ep_FullAWDLSTM.pkl\",\"wb\")\n",
    "pickle.dump(learn.dls.vocab, pickle_out)\n",
    "pickle_out.close()"
   ]
  },
  {
   "cell_type": "code",
   "execution_count": null,
   "metadata": {},
   "outputs": [],
   "source": []
  },
  {
   "cell_type": "markdown",
   "metadata": {},
   "source": []
  },
  {
   "cell_type": "code",
   "execution_count": null,
   "metadata": {
    "id": "dc3RZf3Nmfnu"
   },
   "outputs": [],
   "source": [
    "def sampler_test(model, text, temperature, max_size):\n",
    "    #source: https://github.com/Marcosuff/Marcosuff.github.io/tree/master/fastaiv2_works\n",
    "    model.model.reset()\n",
    "    nums = model.dls.train_ds.numericalize\n",
    "    idxs = idxs_all = model.dls.test_dl([text]).items[0]#.to(model.dls.device)\n",
    "    for _ in range(max_size):\n",
    "\n",
    "    preds,_ = model.get_preds(dl=[(idxs[None],)])\n",
    "    res = preds[0][-1]\n",
    "    if temperature != 1.: res.pow_(1 / temperature)\n",
    "    idx = torch.multinomial(res, 1).item()\n",
    "    if idx != 0:\n",
    "        idxs = idxs_all = torch.cat([idxs_all, idxs.new([idx])])\n",
    "    else:\n",
    "        break\n",
    "\n",
    "    return ''.join([nums.vocab[i] for i in idxs_all if nums.vocab[i] not in [BOS, PAD]])"
   ]
  },
  {
   "cell_type": "code",
   "execution_count": null,
   "metadata": {
    "id": "6W4STKQU-vGU"
   },
   "outputs": [],
   "source": [
    "learn.export()"
   ]
  },
  {
   "cell_type": "code",
   "execution_count": null,
   "metadata": {
    "id": "1CH6RKOIAZnC"
   },
   "outputs": [],
   "source": [
    "# !mv /content/export.pkl /content/drive/My\\ Drive/Colab\\ Notebooks"
   ]
  },
  {
   "cell_type": "code",
   "execution_count": null,
   "metadata": {
    "id": "pAej3Foq-z2h"
   },
   "outputs": [],
   "source": [
    "learn_inf = load_learner('/content/drive/My Drive/Colab Notebooks/export.pkl')"
   ]
  },
  {
   "cell_type": "code",
   "execution_count": null,
   "metadata": {},
   "outputs": [],
   "source": [
    "mols = [sampler_test(model=learn_inf,text='',temperature=0.7,max_size=120) for _ in range(10)]"
   ]
  },
  {
   "cell_type": "code",
   "execution_count": null,
   "metadata": {
    "colab": {
     "base_uri": "https://localhost:8080/"
    },
    "id": "GK2og4eY_IRn",
    "outputId": "4afe12d9-a245-4c63-ce3f-d72fc7bf6346"
   },
   "outputs": [
    {
     "data": {
      "text/plain": [
       "['COc1ccc(CCNC(=O)c2ccc(NS(=O)(=O)c3ccc(Cl)cc3)cc2)cc1',\n",
       " 'COc1ccc(cc1)S(=O)(=O)N(C)C[C@H]2Oc3ccc(NC(=O)NC4CCCCC4)cc3C(=O)N(C[C@@H]2C)[C@H](C)CO',\n",
       " 'CC(C)C[C@H](NC(=O)[C@H](CC(=O)O)NC(=O)[C@H](CO)NC(=O)CNC(=O)[C@H](C)NC(=O)[C@@H](N)CO)C(=O)N[C@@H](Cc1ccc(O)cc1)C(=O)N[C@@H](CCC(=O)N)C(=O)N[C@@H](CCCCN)C(=',\n",
       " 'CC(C)(C)C1=C(N2[C@H](O1)[C@@H](CNC(=O)Cc3cccs3)C2=O)C(=O)O',\n",
       " 'CCOc1ccccc1NC(=O)c2cc(C(=O)N3CCCCC3)c(O)c(CN4CCOCC4)c2',\n",
       " 'CN1CCN(CC1)C2=C(C=O)C(=O)N3C=CC=C(C)C3=N2',\n",
       " 'COc1cc(cc(Cl)c1O)c2ccc3ncc(C(=O)C4CC4)c(Nc5ccc(cc5OC)C6=NCCN6)c3c2',\n",
       " 'CC(N1C(=O)c2ccccc2C1=O)C(=O)Nc3ccc4OCCOc4c3',\n",
       " 'CCOC(=O)c1ccc(NC(=O)CSc2nc(O)c3c4CCCCc4sc3n2)cc1',\n",
       " 'COc1cccc(NC(=O)C(=O)Nc2ccccc2N3CCOCC3)c1OC']"
      ]
     },
     "execution_count": 65,
     "metadata": {
      "tags": []
     },
     "output_type": "execute_result"
    }
   ],
   "source": [
    "mols"
   ]
  },
  {
   "cell_type": "markdown",
   "metadata": {
    "id": "45O5jAOf_n_5"
   },
   "source": [
    "How many **valid** molecules did we generate?"
   ]
  },
  {
   "cell_type": "code",
   "execution_count": null,
   "metadata": {
    "id": "fj9R51Mp_IO7"
   },
   "outputs": [],
   "source": [
    "valid_mols = [x for x in mols if MolFromSmiles(x)]\n",
    "print('Percentage of valid SMILES:{:.2f}%'.format(100*len(valid_mols)/len(mols)))"
   ]
  },
  {
   "cell_type": "markdown",
   "metadata": {
    "id": "I6TEsZNu_qYi"
   },
   "source": [
    "How many molecules are **novel** (i.e., not present on the training set)?"
   ]
  },
  {
   "cell_type": "code",
   "execution_count": null,
   "metadata": {
    "colab": {
     "base_uri": "https://localhost:8080/"
    },
    "id": "D8jvShGb_IMU",
    "outputId": "8f74b43d-4121-4910-97ff-9ac969b32ef0"
   },
   "outputs": [
    {
     "name": "stdout",
     "output_type": "stream",
     "text": [
      "Percentage of novel SMILES:90.00%\n"
     ]
    }
   ],
   "source": [
    "novel_mols = set.difference(set(valid_mols),set(chembl.Smiles))\n",
    "print('Percentage of novel SMILES:{:.2f}%'.format(100*len(novel_mols)/len(valid_mols)))"
   ]
  },
  {
   "cell_type": "code",
   "execution_count": null,
   "metadata": {
    "id": "tNbDAM_W_IJt"
   },
   "outputs": [],
   "source": []
  },
  {
   "cell_type": "code",
   "execution_count": null,
   "metadata": {
    "id": "U5cBGrREU95V"
   },
   "outputs": [],
   "source": []
  },
  {
   "cell_type": "markdown",
   "metadata": {
    "id": "dVLFltpxiSfQ"
   },
   "source": [
    "# References:\n",
    "\n",
    "[1] [Weininger D (1988) SMILES, a chemical language and information system. 1. Introduction to methodology and encoding rules. J Chem Inf Model 28:31–36. https ://doi.org/10.1021/ci000 57a005](https://pubs.acs.org/doi/10.1021/ci00057a005)\n",
    "\n",
    "[2] [Li, Xinhao; Fourches, Denis (2020): SMILES Pair Encoding: A Data-Driven Substructure Tokenization Algorithm for Deep Learning. ChemRxiv. Preprint. https://doi.org/10.26434/chemrxiv.12339368.v1](https://chemrxiv.org/articles/SMILES_Pair_Encoding_A_Data-Driven_Substructure_Tokenization_Algorithm_for_Deep_Learning/12339368)\n",
    "\n",
    "[3] [Li, X., Fourches, D. Inductive transfer learning for molecular activity prediction: Next-Gen QSAR Models with MolPMoFiT. J Cheminform 12, 27 (2020). https://doi.org/10.1186/s13321-020-00430-x](https://jcheminf.biomedcentral.com/articles/10.1186/s13321-020-00430-x)\n",
    "\n",
    "[4] [Marcos Santana, Floriano Paes Silva. De Novo Design and Bioactivity Prediction of SARS-CoV-2 Main Protease Inhibitors Using ULMFit (2020)](https://www.researchgate.net/publication/346223430_De_Novo_Design_and_Bioactivity_Prediction_of_SARS-CoV-2_Main_Protease_Inhibitors_Using_ULMFit)\n",
    "\n",
    "[5] [Howard J, Ruder S (2018) Universal language model fine-tuning for text\n",
    "classification. http://arxiv .org/abs/1801.06146](https://arxiv.org/abs/1801.06146)\n",
    "\n",
    "[6] [Smith LN (2018) A disciplined approach to neural network hyper-parameters:\n",
    "Part 1: learning rate, batch size, momentum, and weight decay. http://arxiv .org/abs/1803.09820](https://arxiv.org/abs/1803.09820)\n",
    "\n",
    "\n",
    "[7] [The RDKit Documentation — The RDKit 2020.03.1 documentation. URLhttps://rdkit.org/docs/index.html.](https://rdkit.org/docs/index.html)\n"
   ]
  },
  {
   "cell_type": "code",
   "execution_count": null,
   "metadata": {},
   "outputs": [],
   "source": []
  }
 ],
 "metadata": {
  "accelerator": "GPU",
  "colab": {
   "collapsed_sections": [],
   "name": "1_ULMFiT_ChemLM.ipynb",
   "provenance": []
  },
  "kernelspec": {
   "display_name": "Python 3",
   "language": "python",
   "name": "python3"
  },
  "language_info": {
   "codemirror_mode": {
    "name": "ipython",
    "version": 3
   },
   "file_extension": ".py",
   "mimetype": "text/x-python",
   "name": "python",
   "nbconvert_exporter": "python",
   "pygments_lexer": "ipython3",
   "version": "3.8.5"
  }
 },
 "nbformat": 4,
 "nbformat_minor": 1
}

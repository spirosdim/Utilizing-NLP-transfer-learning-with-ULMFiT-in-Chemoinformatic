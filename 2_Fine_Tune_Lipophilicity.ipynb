{
 "cells": [
  {
   "cell_type": "markdown",
   "metadata": {
    "id": "qQBoSyxWq874"
   },
   "source": [
    "# Fine-Tuning for Lipophilicity\n",
    "\n",
    "## Acknowledgment\n",
    "\n",
    "**Most of the code is adapted fron the the work of [Xinhao Li](https://jcheminf.biomedcentral.com/articles/10.1186/s13321-020-00430-x) his [github](https://github.com/XinhaoLi74/MolPMoFiT) and [Marcos Santana](https://www.researchgate.net/publication/346223430_De_Novo_Design_and_Bioactivity_Prediction_of_SARS-CoV-2_Main_Protease_Inhibitors_Using_ULMFit) his [github](https://github.com/Marcosuff)**"
   ]
  },
  {
   "cell_type": "code",
   "execution_count": null,
   "metadata": {},
   "outputs": [],
   "source": [
    "%%capture\n",
    "!pip install fastai==2.1.4 \n",
    "!pip install fastcore==1.3.1 "
   ]
  },
  {
   "cell_type": "code",
   "execution_count": 2,
   "metadata": {
    "colab": {
     "base_uri": "https://localhost:8080/"
    },
    "id": "RBukyl9Pr-OM",
    "outputId": "e1290f7d-14dd-4011-8a72-e8fc837163f5"
   },
   "outputs": [
    {
     "name": "stdout",
     "output_type": "stream",
     "text": [
      "2.1.4\n"
     ]
    }
   ],
   "source": [
    "import fastai\n",
    "print(fastai.__version__)\n",
    "\n",
    "from fastai.text.all import *"
   ]
  },
  {
   "cell_type": "code",
   "execution_count": null,
   "metadata": {
    "id": "r9y-38kVnIAd"
   },
   "outputs": [],
   "source": [
    "import pandas as pd\n",
    "import numpy as np\n",
    "from matplotlib import pyplot as plt\n",
    "import re\n",
    "import seaborn as sns\n",
    "sns.set()\n",
    "%matplotlib inline"
   ]
  },
  {
   "cell_type": "code",
   "execution_count": null,
   "metadata": {
    "id": "MVzX8lZjq2bm"
   },
   "outputs": [],
   "source": [
    "# http://moleculenet.ai/datasets-1\n",
    "\n",
    "# https://en.wikipedia.org/wiki/Lipophilicity"
   ]
  },
  {
   "cell_type": "code",
   "execution_count": 4,
   "metadata": {
    "colab": {
     "base_uri": "https://localhost:8080/"
    },
    "id": "2VAxs_XMq4kB",
    "outputId": "06932cbb-9e12-49ab-ff10-622c56ed53a5"
   },
   "outputs": [
    {
     "name": "stdout",
     "output_type": "stream",
     "text": [
      "Mounted at /content/drive\n"
     ]
    }
   ],
   "source": [
    "from google.colab import drive\n",
    "drive.mount('/content/drive')"
   ]
  },
  {
   "cell_type": "code",
   "execution_count": 5,
   "metadata": {
    "colab": {
     "base_uri": "https://localhost:8080/",
     "height": 196
    },
    "id": "0NGozhnLq4f8",
    "outputId": "cdcf7c05-aea1-4ff6-e53d-e7eb20f3dfc2"
   },
   "outputs": [
    {
     "data": {
      "text/html": [
       "<div>\n",
       "<style scoped>\n",
       "    .dataframe tbody tr th:only-of-type {\n",
       "        vertical-align: middle;\n",
       "    }\n",
       "\n",
       "    .dataframe tbody tr th {\n",
       "        vertical-align: top;\n",
       "    }\n",
       "\n",
       "    .dataframe thead th {\n",
       "        text-align: right;\n",
       "    }\n",
       "</style>\n",
       "<table border=\"1\" class=\"dataframe\">\n",
       "  <thead>\n",
       "    <tr style=\"text-align: right;\">\n",
       "      <th></th>\n",
       "      <th>CMPD_CHEMBLID</th>\n",
       "      <th>exp</th>\n",
       "      <th>smiles</th>\n",
       "      <th>canonical_smiles</th>\n",
       "    </tr>\n",
       "  </thead>\n",
       "  <tbody>\n",
       "    <tr>\n",
       "      <th>0</th>\n",
       "      <td>CHEMBL596271</td>\n",
       "      <td>3.54</td>\n",
       "      <td>Cn1c(CN2CCN(CC2)c3ccc(Cl)cc3)nc4ccccc14</td>\n",
       "      <td>Cn1c(CN2CCN(c3ccc(Cl)cc3)CC2)nc2ccccc21</td>\n",
       "    </tr>\n",
       "    <tr>\n",
       "      <th>1</th>\n",
       "      <td>CHEMBL1951080</td>\n",
       "      <td>-1.18</td>\n",
       "      <td>COc1cc(OC)c(cc1NC(=O)CSCC(=O)O)S(=O)(=O)N2C(C)CCc3ccccc23</td>\n",
       "      <td>COc1cc(OC)c(S(=O)(=O)N2c3ccccc3CCC2C)cc1NC(=O)CSCC(=O)O</td>\n",
       "    </tr>\n",
       "    <tr>\n",
       "      <th>2</th>\n",
       "      <td>CHEMBL1771</td>\n",
       "      <td>3.69</td>\n",
       "      <td>COC(=O)[C@@H](N1CCc2sccc2C1)c3ccccc3Cl</td>\n",
       "      <td>COC(=O)[C@H](c1ccccc1Cl)N1CCc2sccc2C1</td>\n",
       "    </tr>\n",
       "    <tr>\n",
       "      <th>3</th>\n",
       "      <td>CHEMBL234951</td>\n",
       "      <td>3.37</td>\n",
       "      <td>OC[C@H](O)CN1C(=O)C(Cc2ccccc12)NC(=O)c3cc4cc(Cl)sc4[nH]3</td>\n",
       "      <td>O=C(NC1Cc2ccccc2N(C[C@@H](O)CO)C1=O)c1cc2cc(Cl)sc2[nH]1</td>\n",
       "    </tr>\n",
       "    <tr>\n",
       "      <th>4</th>\n",
       "      <td>CHEMBL565079</td>\n",
       "      <td>3.10</td>\n",
       "      <td>Cc1cccc(C[C@H](NC(=O)c2cc(nn2C)C(C)(C)C)C(=O)NCC#N)c1</td>\n",
       "      <td>Cc1cccc(C[C@H](NC(=O)c2cc(C(C)(C)C)nn2C)C(=O)NCC#N)c1</td>\n",
       "    </tr>\n",
       "  </tbody>\n",
       "</table>\n",
       "</div>"
      ],
      "text/plain": [
       "   CMPD_CHEMBLID  ...                                         canonical_smiles\n",
       "0   CHEMBL596271  ...                  Cn1c(CN2CCN(c3ccc(Cl)cc3)CC2)nc2ccccc21\n",
       "1  CHEMBL1951080  ...  COc1cc(OC)c(S(=O)(=O)N2c3ccccc3CCC2C)cc1NC(=O)CSCC(=O)O\n",
       "2     CHEMBL1771  ...                    COC(=O)[C@H](c1ccccc1Cl)N1CCc2sccc2C1\n",
       "3   CHEMBL234951  ...  O=C(NC1Cc2ccccc2N(C[C@@H](O)CO)C1=O)c1cc2cc(Cl)sc2[nH]1\n",
       "4   CHEMBL565079  ...    Cc1cccc(C[C@H](NC(=O)c2cc(C(C)(C)C)nn2C)C(=O)NCC#N)c1\n",
       "\n",
       "[5 rows x 4 columns]"
      ]
     },
     "execution_count": 5,
     "metadata": {
      "tags": []
     },
     "output_type": "execute_result"
    }
   ],
   "source": [
    "df = pd.read_csv(\"/content/drive/My Drive/Colab Notebooks/Lipophi_canon.csv\")\n",
    "df.head()"
   ]
  },
  {
   "cell_type": "code",
   "execution_count": null,
   "metadata": {
    "colab": {
     "base_uri": "https://localhost:8080/"
    },
    "id": "5JmLp3XPEMu5",
    "outputId": "3631769c-3103-41e8-e8e1-fed2e298fb02"
   },
   "outputs": [
    {
     "data": {
      "text/plain": [
       "4200"
      ]
     },
     "execution_count": 7,
     "metadata": {
      "tags": []
     },
     "output_type": "execute_result"
    }
   ],
   "source": [
    "# number of SMILES strings\n",
    "len(df)"
   ]
  },
  {
   "cell_type": "code",
   "execution_count": 6,
   "metadata": {
    "id": "53tpds9kq4bU"
   },
   "outputs": [],
   "source": [
    "# Lipophilicity Data\n",
    "df.rename(columns={'CMPD_CHEMBLID':'CMPD_CHEMBLID', \"exp\": \"logD\",\n",
    "                   \"smiles\": \"smiles\",\"canonical_smiles\":\"SMILES\"}, inplace=True)\n",
    "\n",
    "df = df.drop(['CMPD_CHEMBLID', 'smiles'], axis=1)\n",
    "\n",
    "df['canonical'] = 'yes'"
   ]
  },
  {
   "cell_type": "code",
   "execution_count": null,
   "metadata": {
    "id": "meRJt7tDq4ZH"
   },
   "outputs": [],
   "source": [
    "#take 20% and use 15% as validation set and 5% as test set for later\n",
    "df['is_valid'] = False\n",
    "val = np.random.choice(range(len(df)), size=int(len(df)*0.2), replace=False)\n",
    "\n",
    "df.loc[val,'is_valid'] = True"
   ]
  },
  {
   "cell_type": "code",
   "execution_count": null,
   "metadata": {
    "id": "c1c9GAH8q4W0"
   },
   "outputs": [],
   "source": [
    "test_index = val[:int(len(val)/2)]\n",
    "df_test = df.iloc[test_index]\n",
    "\n",
    "df.drop(test_index, inplace=True)"
   ]
  },
  {
   "cell_type": "markdown",
   "metadata": {
    "id": "FofdjKp_Mvyk"
   },
   "source": [
    "# Data Augmentation"
   ]
  },
  {
   "cell_type": "code",
   "execution_count": null,
   "metadata": {
    "id": "NJ3vJ2IqNJM9"
   },
   "outputs": [],
   "source": [
    "%%capture\n",
    "! wget https://repo.anaconda.com/miniconda/Miniconda3-py37_4.8.2-Linux-x86_64.sh\n",
    "! chmod +x Miniconda3-py37_4.8.2-Linux-x86_64.sh\n",
    "! bash ./Miniconda3-py37_4.8.2-Linux-x86_64.sh -b -f -p /usr/local\n",
    "! conda install -c rdkit rdkit -y\n",
    "import sys\n",
    "sys.path.append('/usr/local/lib/python3.7/site-packages/')"
   ]
  },
  {
   "cell_type": "code",
   "execution_count": null,
   "metadata": {
    "id": "NVYlQ_zyMsCG"
   },
   "outputs": [],
   "source": [
    "from rdkit import Chem\n",
    "# original code by Xinhao Li\n",
    "# code adapted from https://github.com/XinhaoLi74/MolPMoFiT/blob/master/notebooks/utils.py\n",
    "def randomize_smiles(smiles):\n",
    "    m = Chem.MolFromSmiles(smiles)\n",
    "    ans = list(range(m.GetNumAtoms()))\n",
    "    np.random.shuffle(ans)\n",
    "    nm = Chem.RenumberAtoms(m,ans)\n",
    "    return Chem.MolToSmiles(nm, canonical=False, isomericSmiles=True, kekuleSmiles=False)\n",
    "\n",
    "def smiles_augmentation(df, N_rounds):\n",
    "    dist_aug = {\"SMILES\": [] ,'logD':[],'canonical':[], 'is_valid':[]}\n",
    "\n",
    "    for i in range(df.shape[0]):\n",
    "        for j in range(N_rounds):\n",
    "            dist_aug['SMILES'].append(randomize_smiles(df.iloc[i].SMILES))\n",
    "            # we will use Gaussian noise with sd=0.3\n",
    "            dist_aug['logD'].append(df.iloc[i].logD + np.random.normal(loc=0.0, scale=0.3, size=1)[0])\n",
    "            dist_aug['canonical'].append('no')\n",
    "            dist_aug['is_valid'].append(df.iloc[i].is_valid)\n",
    "\n",
    "\n",
    "    df_aug = pd.DataFrame.from_dict(dist_aug)\n",
    "    \n",
    "    #merge with original df\n",
    "    df = pd.concat([df, df_aug], sort=False).reset_index(drop=True)\n",
    "    #shuffle the data\n",
    "    df = df.reindex(np.random.permutation(df.index))\n",
    "    return pd.DataFrame.from_dict(df).drop_duplicates('SMILES')"
   ]
  },
  {
   "cell_type": "code",
   "execution_count": null,
   "metadata": {
    "id": "ElloYEElNMUu"
   },
   "outputs": [],
   "source": [
    "df_augment = smiles_augmentation(df, N_rounds=25)"
   ]
  },
  {
   "cell_type": "code",
   "execution_count": null,
   "metadata": {
    "id": "5h2Am0L5PMj9"
   },
   "outputs": [],
   "source": [
    "df_test_aug = smiles_augmentation(df_test, N_rounds=25)"
   ]
  },
  {
   "cell_type": "code",
   "execution_count": null,
   "metadata": {
    "colab": {
     "base_uri": "https://localhost:8080/",
     "height": 404
    },
    "id": "DtP2mtZYN9Sc",
    "outputId": "416aedbb-5bf7-44aa-9d6e-4b19a427b9d1"
   },
   "outputs": [
    {
     "data": {
      "text/html": [
       "<div>\n",
       "<style scoped>\n",
       "    .dataframe tbody tr th:only-of-type {\n",
       "        vertical-align: middle;\n",
       "    }\n",
       "\n",
       "    .dataframe tbody tr th {\n",
       "        vertical-align: top;\n",
       "    }\n",
       "\n",
       "    .dataframe thead th {\n",
       "        text-align: right;\n",
       "    }\n",
       "</style>\n",
       "<table border=\"1\" class=\"dataframe\">\n",
       "  <thead>\n",
       "    <tr style=\"text-align: right;\">\n",
       "      <th></th>\n",
       "      <th>logD</th>\n",
       "      <th>SMILES</th>\n",
       "      <th>canonical</th>\n",
       "      <th>is_valid</th>\n",
       "    </tr>\n",
       "  </thead>\n",
       "  <tbody>\n",
       "    <tr>\n",
       "      <th>23371</th>\n",
       "      <td>2.473107</td>\n",
       "      <td>CC[S+]([O-])c1ncccc1C1(O)CCN(CC23CC(c4ccccc42)...</td>\n",
       "      <td>no</td>\n",
       "      <td>False</td>\n",
       "    </tr>\n",
       "    <tr>\n",
       "      <th>82020</th>\n",
       "      <td>1.934550</td>\n",
       "      <td>C1CCCCC1[C@H](NC(=O)[C@H](C)NC)C(=O)N1[C@H](C(...</td>\n",
       "      <td>no</td>\n",
       "      <td>False</td>\n",
       "    </tr>\n",
       "    <tr>\n",
       "      <th>81142</th>\n",
       "      <td>1.332918</td>\n",
       "      <td>C1Cc2c(cccc2)C(=CCCNC)c2c1cccc2</td>\n",
       "      <td>no</td>\n",
       "      <td>False</td>\n",
       "    </tr>\n",
       "    <tr>\n",
       "      <th>71879</th>\n",
       "      <td>0.703099</td>\n",
       "      <td>c1c(-n2c(NS(=O)(=O)c3ccc(-c4cnco4)cc3)c(C(NC(C...</td>\n",
       "      <td>no</td>\n",
       "      <td>False</td>\n",
       "    </tr>\n",
       "    <tr>\n",
       "      <th>74640</th>\n",
       "      <td>1.041417</td>\n",
       "      <td>c1c(=O)n(C[C@@H](COC)O)c(=O)n(-c2ccc(Cl)c(C(NC...</td>\n",
       "      <td>no</td>\n",
       "      <td>False</td>\n",
       "    </tr>\n",
       "    <tr>\n",
       "      <th>...</th>\n",
       "      <td>...</td>\n",
       "      <td>...</td>\n",
       "      <td>...</td>\n",
       "      <td>...</td>\n",
       "    </tr>\n",
       "    <tr>\n",
       "      <th>16800</th>\n",
       "      <td>2.518377</td>\n",
       "      <td>c1(I)cc(I)c(O)c2c1cccn2</td>\n",
       "      <td>no</td>\n",
       "      <td>False</td>\n",
       "    </tr>\n",
       "    <tr>\n",
       "      <th>35120</th>\n",
       "      <td>2.986879</td>\n",
       "      <td>c1(F)c(-c2n(C(C)C)c(C)nc2)nc(Nc2ccc(N3CC(NC(C)...</td>\n",
       "      <td>no</td>\n",
       "      <td>False</td>\n",
       "    </tr>\n",
       "    <tr>\n",
       "      <th>48090</th>\n",
       "      <td>0.120395</td>\n",
       "      <td>n1c2ccccc2[nH]c(=O)c1NN</td>\n",
       "      <td>no</td>\n",
       "      <td>False</td>\n",
       "    </tr>\n",
       "    <tr>\n",
       "      <th>391</th>\n",
       "      <td>3.650000</td>\n",
       "      <td>COc1ccc(OC)c(-c2cccc3c(N)c(C(=O)NC(C)C)nnc23)c1</td>\n",
       "      <td>yes</td>\n",
       "      <td>True</td>\n",
       "    </tr>\n",
       "    <tr>\n",
       "      <th>36428</th>\n",
       "      <td>0.513576</td>\n",
       "      <td>c1(CC(C)C)ccc([C@@H](C)C(=O)NS(C)(=O)=O)cc1</td>\n",
       "      <td>no</td>\n",
       "      <td>False</td>\n",
       "    </tr>\n",
       "  </tbody>\n",
       "</table>\n",
       "<p>92258 rows × 4 columns</p>\n",
       "</div>"
      ],
      "text/plain": [
       "           logD  ... is_valid\n",
       "23371  2.473107  ...    False\n",
       "82020  1.934550  ...    False\n",
       "81142  1.332918  ...    False\n",
       "71879  0.703099  ...    False\n",
       "74640  1.041417  ...    False\n",
       "...         ...  ...      ...\n",
       "16800  2.518377  ...    False\n",
       "35120  2.986879  ...    False\n",
       "48090  0.120395  ...    False\n",
       "391    3.650000  ...     True\n",
       "36428  0.513576  ...    False\n",
       "\n",
       "[92258 rows x 4 columns]"
      ]
     },
     "execution_count": 60,
     "metadata": {
      "tags": []
     },
     "output_type": "execute_result"
    }
   ],
   "source": [
    "df_augment"
   ]
  },
  {
   "cell_type": "code",
   "execution_count": null,
   "metadata": {
    "id": "-nL_uMWLOBtt"
   },
   "outputs": [],
   "source": [
    "# df_augment.to_csv('/content/drive/My Drive/Colab Notebooks/Projects_Mol_ULMFiT/df_lip_aug.csv', index=False)\n",
    "# df_test_aug.to_csv('/content/drive/My Drive/Colab Notebooks/Projects_Mol_ULMFiT/df_test_lip_aug.csv', index=False)"
   ]
  },
  {
   "cell_type": "markdown",
   "metadata": {},
   "source": [
    "The original size of the Lipophilicity dataset is 4200 SMILES and after augmentation we have 92258 SMILES."
   ]
  },
  {
   "cell_type": "markdown",
   "metadata": {
    "id": "Us7zVSqqM0lR"
   },
   "source": [
    "# Fine Tuning the LM in Lipophilicity data"
   ]
  },
  {
   "cell_type": "code",
   "execution_count": 7,
   "metadata": {
    "id": "8xsaXgVXQlRV"
   },
   "outputs": [],
   "source": [
    "df = pd.read_csv(\"/content/drive/My Drive/Colab Notebooks/df_lip_aug.csv\")\n",
    "\n",
    "df = df.drop(['canonical'], axis=1)\n",
    "\n",
    "df.rename(columns={'SMILES':'Smiles', \"logD\": \"logD\",\n",
    "                   \"is_valid\": \"is_valid\"}, inplace=True)"
   ]
  },
  {
   "cell_type": "code",
   "execution_count": null,
   "metadata": {
    "colab": {
     "base_uri": "https://localhost:8080/"
    },
    "id": "zfxd8HhGElb4",
    "outputId": "d7af8164-856d-433a-86c8-5179c2085d20"
   },
   "outputs": [
    {
     "data": {
      "text/plain": [
       "92258"
      ]
     },
     "execution_count": 8,
     "metadata": {
      "tags": []
     },
     "output_type": "execute_result"
    }
   ],
   "source": [
    "# NUMBER OF SMILES AFTER AUGMENTATION\n",
    "len(df)"
   ]
  },
  {
   "cell_type": "code",
   "execution_count": 8,
   "metadata": {
    "id": "CU6sbL5Dq4Ul"
   },
   "outputs": [],
   "source": [
    "with open('/content/drive/My Drive/Colab Notebooks/vocab_11ep_FullAWDLSTM.pkl', 'rb') as fp:\n",
    "    vocab_lm = pickle.load(fp) "
   ]
  },
  {
   "cell_type": "code",
   "execution_count": 9,
   "metadata": {
    "id": "4Pe8S8Exryn1"
   },
   "outputs": [],
   "source": [
    "class MolTokenizer_v2():\n",
    "  #source: https://github.com/Marcosuff/Marcosuff.github.io/tree/master/fastaiv2_works\n",
    "  def tokenize_mols(self, t):\n",
    "    pat = '(\\[.*?\\])' # Find special enviroments (e.g., [CH],[NH] etc)\n",
    "    tokens = []\n",
    "    t = t.replace('Br','L').replace('Cl','X') # Replace halogens\n",
    "    atom_list = re.split(pat,t)\n",
    "    for s in atom_list:\n",
    "      if s.startswith('['):\n",
    "        tokens.append(s)\n",
    "      else:\n",
    "        tokens += [x for x in list(s)]\n",
    "    tokens = [x.replace('L','Br').replace('X','Cl') for x in tokens] # Decode halogens\n",
    "    return [BOS] + tokens\n",
    "\n",
    "  def __call__(self, items): return (self.tokenize_mols(t) for t in items)"
   ]
  },
  {
   "cell_type": "code",
   "execution_count": 10,
   "metadata": {
    "id": "Swtn3-H7q4SV"
   },
   "outputs": [],
   "source": [
    "d_block = DataBlock(blocks=TextBlock.from_df('Smiles',tok_text_col='Smiles',is_lm=True, # Pass is_lm = True since we are training a language model.\n",
    "                                             tok=MolTokenizer_v2(), rules=[], vocab=vocab_lm), # Our tokenizer goes here and we define a minimum of 1\n",
    "                    get_x=ColReader('Smiles'),\n",
    "                    splitter=ColSplitter('is_valid'))"
   ]
  },
  {
   "cell_type": "code",
   "execution_count": 11,
   "metadata": {
    "colab": {
     "base_uri": "https://localhost:8080/",
     "height": 70
    },
    "id": "SHZUAf9xq4QF",
    "outputId": "ef365ace-ffab-420e-e7e5-9ff4e8a78420"
   },
   "outputs": [
    {
     "data": {
      "text/html": [],
      "text/plain": [
       "<IPython.core.display.HTML object>"
      ]
     },
     "metadata": {
      "tags": []
     },
     "output_type": "display_data"
    },
    {
     "name": "stderr",
     "output_type": "stream",
     "text": [
      "/usr/local/lib/python3.6/dist-packages/numpy/core/_asarray.py:83: VisibleDeprecationWarning: Creating an ndarray from ragged nested sequences (which is a list-or-tuple of lists-or-tuples-or ndarrays with different lengths or shapes) is deprecated. If you meant to do this, you must specify 'dtype=object' when creating the ndarray\n",
      "  return array(a, dtype, copy=False, order=order)\n"
     ]
    }
   ],
   "source": [
    "dls_lipo = d_block.dataloaders(df,bs=128,seq_len=40)"
   ]
  },
  {
   "cell_type": "code",
   "execution_count": null,
   "metadata": {
    "colab": {
     "base_uri": "https://localhost:8080/",
     "height": 316
    },
    "id": "FRWCduS_q4Nv",
    "outputId": "c97e7f8f-cb37-41e0-c7fb-9448baf9d209"
   },
   "outputs": [
    {
     "data": {
      "text/html": [
       "<table border=\"1\" class=\"dataframe\">\n",
       "  <thead>\n",
       "    <tr style=\"text-align: right;\">\n",
       "      <th></th>\n",
       "      <th>text</th>\n",
       "      <th>text_</th>\n",
       "    </tr>\n",
       "  </thead>\n",
       "  <tbody>\n",
       "    <tr>\n",
       "      <th>0</th>\n",
       "      <td>xxbos c 1 ( xxunk c 2 c c c c c 2 ) c ( xxunk c 2 c c c ( C 3 ( N ) C C C 3 ) c c 2 ) n c c</td>\n",
       "      <td>c 1 ( xxunk c 2 c c c c c 2 ) c ( xxunk c 2 c c c ( C 3 ( N ) C C C 3 ) c c 2 ) n c c (</td>\n",
       "    </tr>\n",
       "    <tr>\n",
       "      <th>1</th>\n",
       "      <td>) N ) n o c 2 C ) s c c n 1 xxbos c 1 ( C ) c c c ( C ( = O ) N ( C ( C C ) c 2 n (</td>\n",
       "      <td>N ) n o c 2 C ) s c c n 1 xxbos c 1 ( C ) c c c ( C ( = O ) N ( C ( C C ) c 2 n ( C</td>\n",
       "    </tr>\n",
       "    <tr>\n",
       "      <th>2</th>\n",
       "      <td>c 2 xxbos c 1 c ( N c 2 n c ( N ( c 3 c ( C ) c c c ( C O ) c 3 ) C ) c c n 2 ) c c</td>\n",
       "      <td>2 xxbos c 1 c ( N c 2 n c ( N ( c 3 c ( C ) c c c ( C O ) c 3 ) C ) c c n 2 ) c c (</td>\n",
       "    </tr>\n",
       "    <tr>\n",
       "      <th>3</th>\n",
       "      <td>) C C 3 ) c c 1 xxbos c 1 ( C ( N [C@@H] 2 C N 3 C C C 2 C C 3 ) = O ) s c ( xxunk c 2 c c c</td>\n",
       "      <td>C C 3 ) c c 1 xxbos c 1 ( C ( N [C@@H] 2 C N 3 C C C 2 C C 3 ) = O ) s c ( xxunk c 2 c c c c</td>\n",
       "    </tr>\n",
       "    <tr>\n",
       "      <th>4</th>\n",
       "      <td>c c 3 ) c ( C ) n ( C C ( = O ) O ) c 2 c c c 1 xxbos c 1 c c c ( [C@@H] ( C C N C ) O c</td>\n",
       "      <td>c 3 ) c ( C ) n ( C C ( = O ) O ) c 2 c c c 1 xxbos c 1 c c c ( [C@@H] ( C C N C ) O c 2</td>\n",
       "    </tr>\n",
       "    <tr>\n",
       "      <th>5</th>\n",
       "      <td>c 2 c c c c c 2 ) = N C 1 c 1 s c c c 1 xxbos c 1 c c c 2 c ( n n c ( C ( N C C C )</td>\n",
       "      <td>2 c c c c c 2 ) = N C 1 c 1 s c c c 1 xxbos c 1 c c c 2 c ( n n c ( C ( N C C C ) =</td>\n",
       "    </tr>\n",
       "    <tr>\n",
       "      <th>6</th>\n",
       "      <td>) c c ( O C ) c ( S ( N ( c 2 c c c c c 2 ) c 2 c c c c c 2 ) ( = O ) = O ) c 1</td>\n",
       "      <td>c c ( O C ) c ( S ( N ( c 2 c c c c c 2 ) c 2 c c c c c 2 ) ( = O ) = O ) c 1 xxbos</td>\n",
       "    </tr>\n",
       "    <tr>\n",
       "      <th>7</th>\n",
       "      <td>) c ( N C ( C c 3 c c ( F ) n c c 3 ) = O ) c 1 ) = O ) C ( C ) C C 2 xxbos C O C C</td>\n",
       "      <td>c ( N C ( C c 3 c c ( F ) n c c 3 ) = O ) c 1 ) = O ) C ( C ) C C 2 xxbos C O C C C</td>\n",
       "    </tr>\n",
       "    <tr>\n",
       "      <th>8</th>\n",
       "      <td>C ( c 2 c ( F ) c c c c 2 ) = N 1 xxbos c 1 c ( C C C ( = O ) O ) c ( C ) c ( / C =</td>\n",
       "      <td>( c 2 c ( F ) c c c c 2 ) = N 1 xxbos c 1 c ( C C C ( = O ) O ) c ( C ) c ( / C = C</td>\n",
       "    </tr>\n",
       "  </tbody>\n",
       "</table>"
      ],
      "text/plain": [
       "<IPython.core.display.HTML object>"
      ]
     },
     "metadata": {
      "tags": []
     },
     "output_type": "display_data"
    }
   ],
   "source": [
    "dls_lipo.show_batch()"
   ]
  },
  {
   "cell_type": "code",
   "execution_count": null,
   "metadata": {
    "id": "u5Kb59JJq4Lg"
   },
   "outputs": [],
   "source": []
  },
  {
   "cell_type": "markdown",
   "metadata": {
    "id": "MTI5hh_gsKUG"
   },
   "source": [
    "### Load the Pre-trained model"
   ]
  },
  {
   "cell_type": "code",
   "execution_count": null,
   "metadata": {
    "id": "0aEXFhZpq4I9"
   },
   "outputs": [],
   "source": [
    "fn_path = Path('/content/fxa_finetune')\n",
    "fn_path.mkdir()"
   ]
  },
  {
   "cell_type": "code",
   "execution_count": null,
   "metadata": {
    "id": "94-JfR4EsMWt"
   },
   "outputs": [],
   "source": [
    "pretrained_vocab = '/content/drive/My Drive/Colab Notebooks/vocab_11ep_FullAWDLSTM.pkl'\n",
    "pretrained_wgts = '/content/drive/MyDrive/Colab Notebooks/ChemLMModel_11ep_FullAWDLSTM.pth'\n",
    "fnames = [pretrained_wgts,pretrained_vocab]"
   ]
  },
  {
   "cell_type": "code",
   "execution_count": null,
   "metadata": {
    "id": "o2H7hEdcsMUV"
   },
   "outputs": [],
   "source": [
    "# config = awd_lstm_lm_config.copy()\n",
    "# config.update({'n_hid':512})"
   ]
  },
  {
   "cell_type": "code",
   "execution_count": null,
   "metadata": {
    "id": "3PVjERA3sMR8"
   },
   "outputs": [],
   "source": [
    "learn_lipo = language_model_learner(dls_lipo, AWD_LSTM, pretrained=False,path=fn_path, #config=config,\n",
    "                               drop_mult=0.7,metrics=[accuracy, Perplexity()]) #drop_mult=0.5 , 0.3\n",
    "\n",
    "learn_lipo = learn_lipo.load_pretrained(wgts_fname=fnames[0],vocab_fname=fnames[1])\n",
    "\n",
    "# learn_lipo.freeze()"
   ]
  },
  {
   "cell_type": "code",
   "execution_count": null,
   "metadata": {
    "colab": {
     "base_uri": "https://localhost:8080/",
     "height": 310
    },
    "id": "MgrfTayTsMPk",
    "outputId": "139d1d66-41e6-4a3f-c38e-babbb09093a1"
   },
   "outputs": [
    {
     "data": {
      "text/html": [],
      "text/plain": [
       "<IPython.core.display.HTML object>"
      ]
     },
     "metadata": {
      "tags": []
     },
     "output_type": "display_data"
    },
    {
     "data": {
      "text/plain": [
       "SuggestedLRs(lr_min=0.2754228591918945, lr_steep=0.17378008365631104)"
      ]
     },
     "execution_count": 15,
     "metadata": {
      "tags": []
     },
     "output_type": "execute_result"
    },
    {
     "data": {
      "image/png": "[encoded data removed]",
      "text/plain": [
       "<Figure size 432x288 with 1 Axes>"
      ]
     },
     "metadata": {
      "needs_background": "light",
      "tags": []
     },
     "output_type": "display_data"
    }
   ],
   "source": [
    "learn_lipo.lr_find()"
   ]
  },
  {
   "cell_type": "code",
   "execution_count": null,
   "metadata": {
    "colab": {
     "base_uri": "https://localhost:8080/",
     "height": 137
    },
    "id": "8lxtMnXEiHzm",
    "outputId": "c7390824-b799-4a4a-f300-74908555a0e5"
   },
   "outputs": [
    {
     "data": {
      "text/html": [
       "<table border=\"1\" class=\"dataframe\">\n",
       "  <thead>\n",
       "    <tr style=\"text-align: left;\">\n",
       "      <th>epoch</th>\n",
       "      <th>train_loss</th>\n",
       "      <th>valid_loss</th>\n",
       "      <th>accuracy</th>\n",
       "      <th>perplexity</th>\n",
       "      <th>time</th>\n",
       "    </tr>\n",
       "  </thead>\n",
       "  <tbody>\n",
       "    <tr>\n",
       "      <td>0</td>\n",
       "      <td>1.167888</td>\n",
       "      <td>1.083871</td>\n",
       "      <td>0.632197</td>\n",
       "      <td>2.956100</td>\n",
       "      <td>03:50</td>\n",
       "    </tr>\n",
       "    <tr>\n",
       "      <td>1</td>\n",
       "      <td>1.150393</td>\n",
       "      <td>1.063516</td>\n",
       "      <td>0.638353</td>\n",
       "      <td>2.896536</td>\n",
       "      <td>03:52</td>\n",
       "    </tr>\n",
       "    <tr>\n",
       "      <td>2</td>\n",
       "      <td>1.135936</td>\n",
       "      <td>1.058993</td>\n",
       "      <td>0.639870</td>\n",
       "      <td>2.883466</td>\n",
       "      <td>03:52</td>\n",
       "    </tr>\n",
       "  </tbody>\n",
       "</table>"
      ],
      "text/plain": [
       "<IPython.core.display.HTML object>"
      ]
     },
     "metadata": {
      "tags": []
     },
     "output_type": "display_data"
    }
   ],
   "source": [
    "# learn_lipo.freeze_to(-1)\n",
    "learn_lipo.fit_one_cycle(n_epoch=3, lr_max=7e-2)  "
   ]
  },
  {
   "cell_type": "code",
   "execution_count": null,
   "metadata": {
    "colab": {
     "base_uri": "https://localhost:8080/",
     "height": 286
    },
    "id": "UT-Kb36oiIUm",
    "outputId": "cc7237dd-00ae-436d-cf7b-2b51fb09cafb"
   },
   "outputs": [
    {
     "data": {
      "text/html": [
       "<table border=\"1\" class=\"dataframe\">\n",
       "  <thead>\n",
       "    <tr style=\"text-align: left;\">\n",
       "      <th>epoch</th>\n",
       "      <th>train_loss</th>\n",
       "      <th>valid_loss</th>\n",
       "      <th>accuracy</th>\n",
       "      <th>perplexity</th>\n",
       "      <th>time</th>\n",
       "    </tr>\n",
       "  </thead>\n",
       "  <tbody>\n",
       "    <tr>\n",
       "      <td>0</td>\n",
       "      <td>0.798378</td>\n",
       "      <td>0.751090</td>\n",
       "      <td>0.734918</td>\n",
       "      <td>2.119308</td>\n",
       "      <td>04:16</td>\n",
       "    </tr>\n",
       "    <tr>\n",
       "      <td>1</td>\n",
       "      <td>0.682006</td>\n",
       "      <td>0.687493</td>\n",
       "      <td>0.757569</td>\n",
       "      <td>1.988724</td>\n",
       "      <td>04:17</td>\n",
       "    </tr>\n",
       "    <tr>\n",
       "      <td>2</td>\n",
       "      <td>0.611149</td>\n",
       "      <td>0.647950</td>\n",
       "      <td>0.772761</td>\n",
       "      <td>1.911618</td>\n",
       "      <td>04:15</td>\n",
       "    </tr>\n",
       "    <tr>\n",
       "      <td>3</td>\n",
       "      <td>0.554845</td>\n",
       "      <td>0.634058</td>\n",
       "      <td>0.779236</td>\n",
       "      <td>1.885246</td>\n",
       "      <td>04:18</td>\n",
       "    </tr>\n",
       "    <tr>\n",
       "      <td>4</td>\n",
       "      <td>0.535012</td>\n",
       "      <td>0.625490</td>\n",
       "      <td>0.784199</td>\n",
       "      <td>1.869161</td>\n",
       "      <td>04:17</td>\n",
       "    </tr>\n",
       "    <tr>\n",
       "      <td>5</td>\n",
       "      <td>0.505073</td>\n",
       "      <td>0.624357</td>\n",
       "      <td>0.786774</td>\n",
       "      <td>1.867045</td>\n",
       "      <td>04:16</td>\n",
       "    </tr>\n",
       "    <tr>\n",
       "      <td>6</td>\n",
       "      <td>0.483635</td>\n",
       "      <td>0.625295</td>\n",
       "      <td>0.788505</td>\n",
       "      <td>1.868796</td>\n",
       "      <td>04:18</td>\n",
       "    </tr>\n",
       "    <tr>\n",
       "      <td>7</td>\n",
       "      <td>0.483924</td>\n",
       "      <td>0.626169</td>\n",
       "      <td>0.788821</td>\n",
       "      <td>1.870430</td>\n",
       "      <td>04:08</td>\n",
       "    </tr>\n",
       "  </tbody>\n",
       "</table>"
      ],
      "text/plain": [
       "<IPython.core.display.HTML object>"
      ]
     },
     "metadata": {
      "tags": []
     },
     "output_type": "display_data"
    }
   ],
   "source": [
    "learn_lipo.unfreeze()\n",
    "learn_lipo.fit_one_cycle(8, 1e-3) #(8, 1e-3)"
   ]
  },
  {
   "cell_type": "code",
   "execution_count": null,
   "metadata": {
    "colab": {
     "base_uri": "https://localhost:8080/",
     "height": 166
    },
    "id": "bs2WXA3EiIR_",
    "outputId": "86480b18-c973-4760-c1e8-acf4c85dceb4"
   },
   "outputs": [
    {
     "data": {
      "text/html": [
       "<table border=\"1\" class=\"dataframe\">\n",
       "  <thead>\n",
       "    <tr style=\"text-align: left;\">\n",
       "      <th>epoch</th>\n",
       "      <th>train_loss</th>\n",
       "      <th>valid_loss</th>\n",
       "      <th>accuracy</th>\n",
       "      <th>perplexity</th>\n",
       "      <th>time</th>\n",
       "    </tr>\n",
       "  </thead>\n",
       "  <tbody>\n",
       "    <tr>\n",
       "      <td>0</td>\n",
       "      <td>0.480204</td>\n",
       "      <td>0.627083</td>\n",
       "      <td>0.788909</td>\n",
       "      <td>1.872142</td>\n",
       "      <td>04:07</td>\n",
       "    </tr>\n",
       "    <tr>\n",
       "      <td>1</td>\n",
       "      <td>0.472163</td>\n",
       "      <td>0.626490</td>\n",
       "      <td>0.789134</td>\n",
       "      <td>1.871031</td>\n",
       "      <td>04:05</td>\n",
       "    </tr>\n",
       "    <tr>\n",
       "      <td>2</td>\n",
       "      <td>0.478766</td>\n",
       "      <td>0.626654</td>\n",
       "      <td>0.789360</td>\n",
       "      <td>1.871339</td>\n",
       "      <td>04:05</td>\n",
       "    </tr>\n",
       "    <tr>\n",
       "      <td>3</td>\n",
       "      <td>0.473438</td>\n",
       "      <td>0.626657</td>\n",
       "      <td>0.789350</td>\n",
       "      <td>1.871344</td>\n",
       "      <td>04:06</td>\n",
       "    </tr>\n",
       "  </tbody>\n",
       "</table>"
      ],
      "text/plain": [
       "<IPython.core.display.HTML object>"
      ]
     },
     "metadata": {
      "tags": []
     },
     "output_type": "display_data"
    }
   ],
   "source": [
    "learn_lipo.fit_one_cycle(4, 5e-5)"
   ]
  },
  {
   "cell_type": "code",
   "execution_count": null,
   "metadata": {
    "id": "b9R4B70IiIP1"
   },
   "outputs": [],
   "source": [
    "learn_lipo.save('/content/drive/My Drive/Colab Notebooks/LM_1M_40seqLM_aug_lip_finetuned')\n",
    "learn_lipo.save_encoder('/content/drive/My Drive/Colab Notebooks/LM_1M_40seqLM_aug_lip_finetuned_enc')"
   ]
  },
  {
   "cell_type": "code",
   "execution_count": null,
   "metadata": {
    "id": "2YWQx8oziIM2"
   },
   "outputs": [],
   "source": []
  },
  {
   "cell_type": "code",
   "execution_count": null,
   "metadata": {
    "colab": {
     "base_uri": "https://localhost:8080/",
     "height": 679
    },
    "id": "Hd3SQn7SQcWh",
    "outputId": "979a168e-904b-4278-d1eb-2303d13796a9"
   },
   "outputs": [
    {
     "data": {
      "text/html": [
       "<table border=\"1\" class=\"dataframe\">\n",
       "  <thead>\n",
       "    <tr style=\"text-align: left;\">\n",
       "      <th>epoch</th>\n",
       "      <th>train_loss</th>\n",
       "      <th>valid_loss</th>\n",
       "      <th>accuracy</th>\n",
       "      <th>perplexity</th>\n",
       "      <th>time</th>\n",
       "    </tr>\n",
       "  </thead>\n",
       "  <tbody>\n",
       "    <tr>\n",
       "      <td>0</td>\n",
       "      <td>None</td>\n",
       "      <td>None</td>\n",
       "      <td>None</td>\n",
       "      <td>00:00</td>\n",
       "    </tr>\n",
       "  </tbody>\n",
       "</table>"
      ],
      "text/plain": [
       "<IPython.core.display.HTML object>"
      ]
     },
     "metadata": {
      "tags": []
     },
     "output_type": "display_data"
    },
    {
     "data": {
      "application/vnd.google.colaboratory.intrinsic+json": {
       "type": "string"
      },
      "text/plain": [
       "SequentialRNN (Input shape: ['128 x 40'])\n",
       "================================================================\n",
       "Layer (type)         Output Shape         Param #    Trainable \n",
       "================================================================\n",
       "LSTM                 ['128 x 40 x 1152',  1,852,416  True      \n",
       "________________________________________________________________\n",
       "LSTM                 ['128 x 40 x 1152',  5,317,632  True      \n",
       "________________________________________________________________\n",
       "LSTM                 ['128 x 40 x 400',   1,846,400  True      \n",
       "________________________________________________________________\n",
       "RNNDropout           128 x 40 x 400       0          False     \n",
       "________________________________________________________________\n",
       "RNNDropout           128 x 40 x 1152      0          False     \n",
       "________________________________________________________________\n",
       "RNNDropout           128 x 40 x 1152      0          False     \n",
       "________________________________________________________________\n",
       "Linear               128 x 40 x 240       96,240     True      \n",
       "________________________________________________________________\n",
       "RNNDropout           128 x 40 x 400       0          False     \n",
       "________________________________________________________________\n",
       "\n",
       "Total params: 9,112,688\n",
       "Total trainable params: 9,112,688\n",
       "Total non-trainable params: 0\n",
       "\n",
       "Optimizer used: <function Adam at 0x7f97c225e6a8>\n",
       "Loss function: FlattenedLoss of CrossEntropyLoss()\n",
       "\n",
       "Model unfrozen\n",
       "\n",
       "Callbacks:\n",
       "  - TrainEvalCallback\n",
       "  - Recorder\n",
       "  - ProgressCallback\n",
       "  - ModelResetter\n",
       "  - RNNRegularizer"
      ]
     },
     "execution_count": 35,
     "metadata": {
      "tags": []
     },
     "output_type": "execute_result"
    }
   ],
   "source": [
    "learn_lipo.unfreeze()\n",
    "learn_lipo.summary()"
   ]
  },
  {
   "cell_type": "markdown",
   "metadata": {
    "id": "5YrkkWJStG-W"
   },
   "source": [
    "# QSAR Task using the Fine-tuned LM"
   ]
  },
  {
   "cell_type": "code",
   "execution_count": 12,
   "metadata": {
    "id": "IT85xkmwtJ30"
   },
   "outputs": [],
   "source": [
    "with open('/content/drive/My Drive/Colab Notebooks/vocab_11ep_FullAWDLSTM.pkl', 'rb') as fp:\n",
    "    vocab_lm = pickle.load(fp) "
   ]
  },
  {
   "cell_type": "code",
   "execution_count": 13,
   "metadata": {
    "id": "kNjNNFLhsMDH"
   },
   "outputs": [],
   "source": [
    "d_block = DataBlock(\n",
    "    blocks=(TextBlock.from_df('Smiles',tok_text_col='Smiles', seq_len=200,\n",
    "                              tok=MolTokenizer_v2(), rules=[], vocab=vocab_lm), RegressionBlock),\n",
    "                    get_x=ColReader('Smiles'),get_y=ColReader('logD'),\n",
    "                    splitter=ColSplitter('is_valid')\n",
    "                    ) "
   ]
  },
  {
   "cell_type": "code",
   "execution_count": 14,
   "metadata": {
    "colab": {
     "base_uri": "https://localhost:8080/",
     "height": 70
    },
    "id": "8gTztIR0sMAt",
    "outputId": "086a0c54-1e2c-4d4a-8fa0-295125781b68"
   },
   "outputs": [
    {
     "data": {
      "text/html": [],
      "text/plain": [
       "<IPython.core.display.HTML object>"
      ]
     },
     "metadata": {
      "tags": []
     },
     "output_type": "display_data"
    },
    {
     "name": "stderr",
     "output_type": "stream",
     "text": [
      "/usr/local/lib/python3.6/dist-packages/numpy/core/_asarray.py:83: VisibleDeprecationWarning: Creating an ndarray from ragged nested sequences (which is a list-or-tuple of lists-or-tuples-or ndarrays with different lengths or shapes) is deprecated. If you meant to do this, you must specify 'dtype=object' when creating the ndarray\n",
      "  return array(a, dtype, copy=False, order=order)\n"
     ]
    }
   ],
   "source": [
    "dls_lip = d_block.dataloaders(df,bs=128)"
   ]
  },
  {
   "cell_type": "code",
   "execution_count": null,
   "metadata": {
    "colab": {
     "base_uri": "https://localhost:8080/",
     "height": 583
    },
    "id": "wHKTOcYasL-N",
    "outputId": "797183cb-129a-45df-c684-11aacf6e0124"
   },
   "outputs": [
    {
     "data": {
      "text/html": [
       "<table border=\"1\" class=\"dataframe\">\n",
       "  <thead>\n",
       "    <tr style=\"text-align: right;\">\n",
       "      <th></th>\n",
       "      <th>text</th>\n",
       "      <th>text_</th>\n",
       "    </tr>\n",
       "  </thead>\n",
       "  <tbody>\n",
       "    <tr>\n",
       "      <th>0</th>\n",
       "      <td>xxbos C ( N [C@H] ( C ( N [C@H] ( C ( = O ) N [C@@H] 1 C ( = O ) N C C ( = O ) N [C@@H] ( C C C N ) C ( = O ) N [C@@H] ( C C ( O ) = O ) C ( = O ) N [C@H] ( C ) C ( = O ) N [C@@H] ( C C ( = O ) O ) C ( = O ) N C C ( = O ) N [C@H] ( C O ) C ( = O ) N [C@@H] ( [C@H] ( C ) C C ( O ) = O ) C ( = O ) N [C@@H] ( C C ( c 2 c ( N ) c c c c 2 ) = O ) C ( = O )</td>\n",
       "      <td>-0.9756314754486084</td>\n",
       "    </tr>\n",
       "    <tr>\n",
       "      <th>1</th>\n",
       "      <td>xxbos C 1 N C ( = O ) [C@@H] ( N C ( = O ) [C@@H] ( N C ( [C@@H] ( N C ( [C@@H] ( N C ( = O ) C C C C C C C C C ) C c 2 c 3 c ( [nH] c 2 ) c c c c 3 ) = O ) C C ( = O ) N ) = O ) C C ( = O ) O ) [C@@H] ( C ) O C ( = O ) [C@H] ( C C ( = O ) c 2 c c c c c 2 N ) N C ( = O ) [C@H] ( [C@H] ( C ) C C ( O ) = O ) N C ( = O ) [C@@H] ( C O ) N C ( = O ) C</td>\n",
       "      <td>-1.3338708877563477</td>\n",
       "    </tr>\n",
       "    <tr>\n",
       "      <th>2</th>\n",
       "      <td>xxbos S ( = O ) ( N c 1 c c c ( N 2 C C N ( c 3 c c ( xxunk c 4 c ( xxunk c 5 c c c ( Cl ) c c 5 ) n ( C C ) c ( C ) c 4 C ( = O ) O ) c c c 3 ) C C 2 ) c c 1 ) ( = O ) c 1 c c ( S ( = O ) ( = O ) C ( F ) ( F ) F ) c ( N [C@@H] ( C S c 2 c c c c c 2 ) C C N 2 C C C ( O ) C C 2 ) c c 1</td>\n",
       "      <td>4.2752766609191895</td>\n",
       "    </tr>\n",
       "    <tr>\n",
       "      <th>3</th>\n",
       "      <td>xxbos S ( = O ) ( c 1 c ( N [C@@H] ( C S c 2 c c c c c 2 ) C C N 2 C C C ( O ) C C 2 ) c c c ( S ( N c 2 c c c ( N 3 C C N ( c 4 c c ( xxunk c 5 c ( C ( O ) = O ) c ( C ) n ( C C ) c 5 xxunk c 5 c c c ( Cl ) c c 5 ) c c c 4 ) C C 3 ) c c 2 ) ( = O ) = O ) c 1 ) ( C ( F ) ( F ) F ) = O</td>\n",
       "      <td>4.612443923950195</td>\n",
       "    </tr>\n",
       "    <tr>\n",
       "      <th>4</th>\n",
       "      <td>xxbos C ( C ) ( O C ( = O ) N [C@@H] ( c 1 c c c c c 1 ) [C@@H] ( O ) C ( = O ) O [C@@H] 1 C ( C ) = C 2 [C@@H] ( O ) C ( = O ) [C@@] 3 ( C ) [C@H] ( [C@H] ( O C ( c 4 c c c c c 4 ) = O ) [C@] ( O ) ( C 1 ) C 2 ( C ) C ) [C@@] 1 ( O C ( C ) = O ) [C@@H] ( C [C@@H] 3 O ) O C 1 ) ( C ) C . O . O . O</td>\n",
       "      <td>3.5616703033447266</td>\n",
       "    </tr>\n",
       "    <tr>\n",
       "      <th>5</th>\n",
       "      <td>xxbos O . c 1 ( [C@@H] ( [C@@H] ( O ) C ( = O ) O [C@@H] 2 C ( C ) = C 3 C ( C ) ( C ) [C@] ( O ) ( [C@@H] ( O C ( c 4 c c c c c 4 ) = O ) [C@H] 4 [C@@] ( C ) ( [C@@H] ( O ) C [C@H] 5 O C [C@@] 4 5 O C ( = O ) C ) C ( = O ) [C@@H] 3 O ) C 2 ) N C ( O C ( C ) ( C ) C ) = O ) c c c c c 1 . O . O</td>\n",
       "      <td>2.976428985595703</td>\n",
       "    </tr>\n",
       "    <tr>\n",
       "      <th>6</th>\n",
       "      <td>xxbos O [C@H] 1 C [C@H] 2 O C [C@@] 2 ( O C ( = O ) C ) [C@H] 2 [C@H] ( O C ( c 3 c c c c c 3 ) = O ) [C@@] 3 ( O ) C ( C ) ( C ) C ( = C ( C ) [C@@H] ( O C ( [C@@H] ( [C@H] ( c 4 c c c c c 4 ) N C ( O C ( C ) ( C ) C ) = O ) O ) = O ) C 3 ) [C@@H] ( O ) C ( = O ) [C@] 1 2 C . O . O . O</td>\n",
       "      <td>3.056368589401245</td>\n",
       "    </tr>\n",
       "    <tr>\n",
       "      <th>7</th>\n",
       "      <td>xxbos c 1 c c c ( S C [C@H] ( N c 2 c c c ( S ( = O ) ( = O ) N C ( c 3 c c c ( N 4 C C N ( C C 5 = C ( c 6 c c c ( Cl ) c c 6 ) C C C ( C ) ( C ) C 5 ) C C 4 ) c c 3 ) = O ) c c 2 S ( = O ) ( C ( F ) ( F ) F ) = O ) C C N 2 C C O C C 2 ) c c 1</td>\n",
       "      <td>1.3815550804138184</td>\n",
       "    </tr>\n",
       "    <tr>\n",
       "      <th>8</th>\n",
       "      <td>xxbos c 1 c ( S C [C@@H] ( C C N 2 C C O C C 2 ) N c 2 c c c ( S ( = O ) ( N C ( c 3 c c c ( N 4 C C N ( C C 5 = C ( c 6 c c c ( Cl ) c c 6 ) C C C ( C ) ( C ) C 5 ) C C 4 ) c c 3 ) = O ) = O ) c c 2 S ( C ( F ) ( F ) F ) ( = O ) = O ) c c c c 1</td>\n",
       "      <td>0.8359242081642151</td>\n",
       "    </tr>\n",
       "  </tbody>\n",
       "</table>"
      ],
      "text/plain": [
       "<IPython.core.display.HTML object>"
      ]
     },
     "metadata": {
      "tags": []
     },
     "output_type": "display_data"
    }
   ],
   "source": [
    "dls_lip.show_batch()"
   ]
  },
  {
   "cell_type": "code",
   "execution_count": null,
   "metadata": {
    "id": "eJRSK7dOsL7l"
   },
   "outputs": [],
   "source": [
    "# config = awd_lstm_clas_config.copy()\n",
    "# config.update({'n_hid':512})"
   ]
  },
  {
   "cell_type": "code",
   "execution_count": 15,
   "metadata": {
    "id": "7-d6a-eisL5b"
   },
   "outputs": [],
   "source": [
    "reg_learner = text_classifier_learner(dls_lip, AWD_LSTM, pretrained=False, \n",
    "                                      drop_mult=0.5, metrics = [rmse])"
   ]
  },
  {
   "cell_type": "code",
   "execution_count": 16,
   "metadata": {
    "colab": {
     "base_uri": "https://localhost:8080/"
    },
    "id": "gheZ2PxPsL20",
    "outputId": "22344adc-292a-4560-f65e-538731123a48"
   },
   "outputs": [
    {
     "data": {
      "text/plain": [
       "<fastai.text.learner.TextLearner at 0x7f784c915b00>"
      ]
     },
     "execution_count": 16,
     "metadata": {
      "tags": []
     },
     "output_type": "execute_result"
    }
   ],
   "source": [
    "reg_learner.load_encoder('/content/drive/My Drive/Colab Notebooks/LM_1M_40seqLM_aug_lip_finetuned_enc')"
   ]
  },
  {
   "cell_type": "code",
   "execution_count": null,
   "metadata": {
    "id": "iV47ndtnsL0c"
   },
   "outputs": [],
   "source": [
    "reg_learner.lr_find()"
   ]
  },
  {
   "cell_type": "code",
   "execution_count": null,
   "metadata": {
    "colab": {
     "base_uri": "https://localhost:8080/",
     "height": 137
    },
    "id": "4-OOnFaatclX",
    "outputId": "af017204-ba7f-46c0-fe6b-ceb669f39798"
   },
   "outputs": [
    {
     "data": {
      "text/html": [
       "<table border=\"1\" class=\"dataframe\">\n",
       "  <thead>\n",
       "    <tr style=\"text-align: left;\">\n",
       "      <th>epoch</th>\n",
       "      <th>train_loss</th>\n",
       "      <th>valid_loss</th>\n",
       "      <th>_rmse</th>\n",
       "      <th>time</th>\n",
       "    </tr>\n",
       "  </thead>\n",
       "  <tbody>\n",
       "    <tr>\n",
       "      <td>0</td>\n",
       "      <td>1.096629</td>\n",
       "      <td>1.017841</td>\n",
       "      <td>1.008881</td>\n",
       "      <td>01:29</td>\n",
       "    </tr>\n",
       "    <tr>\n",
       "      <td>1</td>\n",
       "      <td>0.974936</td>\n",
       "      <td>0.938738</td>\n",
       "      <td>0.968885</td>\n",
       "      <td>01:31</td>\n",
       "    </tr>\n",
       "    <tr>\n",
       "      <td>2</td>\n",
       "      <td>0.862627</td>\n",
       "      <td>0.928447</td>\n",
       "      <td>0.963560</td>\n",
       "      <td>01:31</td>\n",
       "    </tr>\n",
       "  </tbody>\n",
       "</table>"
      ],
      "text/plain": [
       "<IPython.core.display.HTML object>"
      ]
     },
     "metadata": {
      "tags": []
     },
     "output_type": "display_data"
    }
   ],
   "source": [
    "reg_learner.freeze_to(-1)\n",
    "reg_learner.fit_one_cycle(3, 1e-2)"
   ]
  },
  {
   "cell_type": "code",
   "execution_count": null,
   "metadata": {
    "colab": {
     "base_uri": "https://localhost:8080/",
     "height": 166
    },
    "id": "7t_08e_Ltci9",
    "outputId": "2e9afd64-8f6d-4dfd-d96f-75d5875025da"
   },
   "outputs": [
    {
     "data": {
      "text/html": [
       "<table border=\"1\" class=\"dataframe\">\n",
       "  <thead>\n",
       "    <tr style=\"text-align: left;\">\n",
       "      <th>epoch</th>\n",
       "      <th>train_loss</th>\n",
       "      <th>valid_loss</th>\n",
       "      <th>_rmse</th>\n",
       "      <th>time</th>\n",
       "    </tr>\n",
       "  </thead>\n",
       "  <tbody>\n",
       "    <tr>\n",
       "      <td>0</td>\n",
       "      <td>0.673947</td>\n",
       "      <td>0.771616</td>\n",
       "      <td>0.878417</td>\n",
       "      <td>01:37</td>\n",
       "    </tr>\n",
       "    <tr>\n",
       "      <td>1</td>\n",
       "      <td>0.559517</td>\n",
       "      <td>0.699027</td>\n",
       "      <td>0.836078</td>\n",
       "      <td>01:37</td>\n",
       "    </tr>\n",
       "    <tr>\n",
       "      <td>2</td>\n",
       "      <td>0.440511</td>\n",
       "      <td>0.671382</td>\n",
       "      <td>0.819379</td>\n",
       "      <td>01:36</td>\n",
       "    </tr>\n",
       "    <tr>\n",
       "      <td>3</td>\n",
       "      <td>0.428938</td>\n",
       "      <td>0.666769</td>\n",
       "      <td>0.816559</td>\n",
       "      <td>01:37</td>\n",
       "    </tr>\n",
       "  </tbody>\n",
       "</table>"
      ],
      "text/plain": [
       "<IPython.core.display.HTML object>"
      ]
     },
     "metadata": {
      "tags": []
     },
     "output_type": "display_data"
    }
   ],
   "source": [
    "reg_learner.freeze_to(-2)\n",
    "reg_learner.fit_one_cycle(4, slice(5e-3/(2.6**4),5e-3))"
   ]
  },
  {
   "cell_type": "code",
   "execution_count": null,
   "metadata": {
    "colab": {
     "base_uri": "https://localhost:8080/",
     "height": 166
    },
    "id": "b0RdxcoTtcgo",
    "outputId": "f41f1215-1d86-4e11-9bea-d16986ed24a9"
   },
   "outputs": [
    {
     "data": {
      "text/html": [
       "<table border=\"1\" class=\"dataframe\">\n",
       "  <thead>\n",
       "    <tr style=\"text-align: left;\">\n",
       "      <th>epoch</th>\n",
       "      <th>train_loss</th>\n",
       "      <th>valid_loss</th>\n",
       "      <th>_rmse</th>\n",
       "      <th>time</th>\n",
       "    </tr>\n",
       "  </thead>\n",
       "  <tbody>\n",
       "    <tr>\n",
       "      <td>0</td>\n",
       "      <td>0.377883</td>\n",
       "      <td>0.659043</td>\n",
       "      <td>0.811815</td>\n",
       "      <td>02:25</td>\n",
       "    </tr>\n",
       "    <tr>\n",
       "      <td>1</td>\n",
       "      <td>0.391298</td>\n",
       "      <td>0.654101</td>\n",
       "      <td>0.808765</td>\n",
       "      <td>02:25</td>\n",
       "    </tr>\n",
       "    <tr>\n",
       "      <td>2</td>\n",
       "      <td>0.358559</td>\n",
       "      <td>0.658032</td>\n",
       "      <td>0.811192</td>\n",
       "      <td>02:25</td>\n",
       "    </tr>\n",
       "    <tr>\n",
       "      <td>3</td>\n",
       "      <td>0.360139</td>\n",
       "      <td>0.652781</td>\n",
       "      <td>0.807949</td>\n",
       "      <td>02:25</td>\n",
       "    </tr>\n",
       "  </tbody>\n",
       "</table>"
      ],
      "text/plain": [
       "<IPython.core.display.HTML object>"
      ]
     },
     "metadata": {
      "tags": []
     },
     "output_type": "display_data"
    }
   ],
   "source": [
    "reg_learner.freeze_to(-3)\n",
    "reg_learner.fit_one_cycle(4, slice(5e-4/(2.6**4),5e-4))"
   ]
  },
  {
   "cell_type": "code",
   "execution_count": null,
   "metadata": {
    "colab": {
     "base_uri": "https://localhost:8080/",
     "height": 226
    },
    "id": "pUZVjmGan-nC",
    "outputId": "1b972807-551f-41e4-b19a-44fbcf847465"
   },
   "outputs": [
    {
     "data": {
      "text/html": [
       "<table border=\"1\" class=\"dataframe\">\n",
       "  <thead>\n",
       "    <tr style=\"text-align: left;\">\n",
       "      <th>epoch</th>\n",
       "      <th>train_loss</th>\n",
       "      <th>valid_loss</th>\n",
       "      <th>_rmse</th>\n",
       "      <th>time</th>\n",
       "    </tr>\n",
       "  </thead>\n",
       "  <tbody>\n",
       "    <tr>\n",
       "      <td>0</td>\n",
       "      <td>0.349597</td>\n",
       "      <td>0.650235</td>\n",
       "      <td>0.806372</td>\n",
       "      <td>03:05</td>\n",
       "    </tr>\n",
       "    <tr>\n",
       "      <td>1</td>\n",
       "      <td>0.362664</td>\n",
       "      <td>0.654312</td>\n",
       "      <td>0.808896</td>\n",
       "      <td>03:06</td>\n",
       "    </tr>\n",
       "    <tr>\n",
       "      <td>2</td>\n",
       "      <td>0.348162</td>\n",
       "      <td>0.650776</td>\n",
       "      <td>0.806707</td>\n",
       "      <td>03:05</td>\n",
       "    </tr>\n",
       "    <tr>\n",
       "      <td>3</td>\n",
       "      <td>0.356657</td>\n",
       "      <td>0.659416</td>\n",
       "      <td>0.812045</td>\n",
       "      <td>03:06</td>\n",
       "    </tr>\n",
       "    <tr>\n",
       "      <td>4</td>\n",
       "      <td>0.367239</td>\n",
       "      <td>0.646869</td>\n",
       "      <td>0.804282</td>\n",
       "      <td>03:06</td>\n",
       "    </tr>\n",
       "    <tr>\n",
       "      <td>5</td>\n",
       "      <td>0.355233</td>\n",
       "      <td>0.655668</td>\n",
       "      <td>0.809733</td>\n",
       "      <td>03:05</td>\n",
       "    </tr>\n",
       "  </tbody>\n",
       "</table>"
      ],
      "text/plain": [
       "<IPython.core.display.HTML object>"
      ]
     },
     "metadata": {
      "tags": []
     },
     "output_type": "display_data"
    }
   ],
   "source": [
    "reg_learner.unfreeze()\n",
    "reg_learner.fit_one_cycle(6, slice(5e-6/(2.6**4),5e-6))"
   ]
  },
  {
   "cell_type": "code",
   "execution_count": 17,
   "metadata": {
    "colab": {
     "base_uri": "https://localhost:8080/",
     "height": 846
    },
    "id": "qCGsKCehEAVh",
    "outputId": "54e90f26-2dcc-4b7f-c9f3-07ef50148fa3"
   },
   "outputs": [
    {
     "data": {
      "text/html": [
       "<table border=\"1\" class=\"dataframe\">\n",
       "  <thead>\n",
       "    <tr style=\"text-align: left;\">\n",
       "      <th>epoch</th>\n",
       "      <th>train_loss</th>\n",
       "      <th>valid_loss</th>\n",
       "      <th>_rmse</th>\n",
       "      <th>time</th>\n",
       "    </tr>\n",
       "  </thead>\n",
       "  <tbody>\n",
       "    <tr>\n",
       "      <td>0</td>\n",
       "      <td>None</td>\n",
       "      <td>None</td>\n",
       "      <td>00:00</td>\n",
       "    </tr>\n",
       "  </tbody>\n",
       "</table>"
      ],
      "text/plain": [
       "<IPython.core.display.HTML object>"
      ]
     },
     "metadata": {
      "tags": []
     },
     "output_type": "display_data"
    },
    {
     "data": {
      "application/vnd.google.colaboratory.intrinsic+json": {
       "type": "string"
      },
      "text/plain": [
       "SequentialRNN (Input shape: ['128 x 212'])\n",
       "================================================================\n",
       "Layer (type)         Output Shape         Param #    Trainable \n",
       "================================================================\n",
       "LSTM                 ['128 x 68 x 1152',  1,852,416  True      \n",
       "________________________________________________________________\n",
       "LSTM                 ['128 x 68 x 1152',  5,317,632  True      \n",
       "________________________________________________________________\n",
       "LSTM                 ['128 x 68 x 400',   1,846,400  True      \n",
       "________________________________________________________________\n",
       "RNNDropout           128 x 68 x 400       0          False     \n",
       "________________________________________________________________\n",
       "RNNDropout           128 x 68 x 1152      0          False     \n",
       "________________________________________________________________\n",
       "RNNDropout           128 x 68 x 1152      0          False     \n",
       "________________________________________________________________\n",
       "BatchNorm1d          128 x 1200           2,400      True      \n",
       "________________________________________________________________\n",
       "Dropout              128 x 1200           0          False     \n",
       "________________________________________________________________\n",
       "Linear               128 x 50             60,000     True      \n",
       "________________________________________________________________\n",
       "ReLU                 128 x 50             0          False     \n",
       "________________________________________________________________\n",
       "BatchNorm1d          128 x 50             100        True      \n",
       "________________________________________________________________\n",
       "Dropout              128 x 50             0          False     \n",
       "________________________________________________________________\n",
       "Linear               128 x 1              50         True      \n",
       "________________________________________________________________\n",
       "\n",
       "Total params: 9,078,998\n",
       "Total trainable params: 9,078,998\n",
       "Total non-trainable params: 0\n",
       "\n",
       "Optimizer used: <function Adam at 0x7f78a8c231e0>\n",
       "Loss function: FlattenedLoss of MSELoss()\n",
       "\n",
       "Model unfrozen\n",
       "\n",
       "Callbacks:\n",
       "  - TrainEvalCallback\n",
       "  - Recorder\n",
       "  - ProgressCallback\n",
       "  - ModelResetter\n",
       "  - RNNRegularizer"
      ]
     },
     "execution_count": 17,
     "metadata": {
      "tags": []
     },
     "output_type": "execute_result"
    }
   ],
   "source": [
    "reg_learner.unfreeze()\n",
    "reg_learner.summary()"
   ]
  },
  {
   "cell_type": "code",
   "execution_count": null,
   "metadata": {},
   "outputs": [],
   "source": [
    "reg_learner.save('/content/drive/My Drive/Colab Notebooks/LM_1M_40seqLM_aug_lip_QSAR')"
   ]
  },
  {
   "cell_type": "code",
   "execution_count": null,
   "metadata": {
    "colab": {
     "base_uri": "https://localhost:8080/",
     "height": 285
    },
    "id": "lvN9sGwTtcZN",
    "outputId": "fcdbb5a2-3492-403e-b66b-d3fd096e4847"
   },
   "outputs": [
    {
     "data": {
      "text/html": [],
      "text/plain": [
       "<IPython.core.display.HTML object>"
      ]
     },
     "metadata": {
      "tags": []
     },
     "output_type": "display_data"
    },
    {
     "data": {
      "image/png": "[encoded data removed]",
      "text/plain": [
       "<Figure size 432x288 with 1 Axes>"
      ]
     },
     "metadata": {
      "needs_background": "light",
      "tags": []
     },
     "output_type": "display_data"
    }
   ],
   "source": [
    "pred, lbl = reg_learner.get_preds()\n",
    "\n",
    "fig = plt.figure()\n",
    "ax1 = fig.add_subplot(111)\n",
    "\n",
    "ax1.scatter(lbl, pred.squeeze(), s=10, c='b')\n",
    "ax1.plot(lbl,lbl, c='r')\n",
    "ax1.set(xlabel='empirical logD', ylabel='predicted logD')\n",
    "plt.show()"
   ]
  },
  {
   "cell_type": "code",
   "execution_count": null,
   "metadata": {
    "id": "xtDI3VFb2qrx"
   },
   "outputs": [],
   "source": []
  },
  {
   "cell_type": "markdown",
   "metadata": {},
   "source": [
    "Now let's see the generalization RMSE."
   ]
  },
  {
   "cell_type": "code",
   "execution_count": null,
   "metadata": {
    "id": "hRk2d588pwoj"
   },
   "outputs": [],
   "source": [
    "df_test = pd.read_csv(\"/content/drive/My Drive/Colab Notebooks/Projects_Mol_ULMFiT/df_test_lip_aug.csv\")\n",
    "df_test = df_test.drop(['canonical','is_valid'], axis=1)\n",
    "df_test.rename(columns={'SMILES':'Smiles', \"logD\": \"logD\"}, inplace=True)"
   ]
  },
  {
   "cell_type": "code",
   "execution_count": null,
   "metadata": {
    "colab": {
     "base_uri": "https://localhost:8080/",
     "height": 17
    },
    "id": "-mHGsB0EroBK",
    "outputId": "b1f1d9bf-bf3a-47c0-d916-a39d927ef90f"
   },
   "outputs": [
    {
     "data": {
      "text/html": [],
      "text/plain": [
       "<IPython.core.display.HTML object>"
      ]
     },
     "metadata": {
      "tags": []
     },
     "output_type": "display_data"
    }
   ],
   "source": [
    "dl_test = reg_learner.dls.test_dl(df_test, with_labels=True)\n",
    "preds,targs, _ = reg_learner.get_preds(dl=dl_test, with_decoded=True)"
   ]
  },
  {
   "cell_type": "code",
   "execution_count": null,
   "metadata": {
    "colab": {
     "base_uri": "https://localhost:8080/"
    },
    "id": "oKYISfOl07_i",
    "outputId": "1761a5ff-0cbc-4c8f-b2c5-161677527d13"
   },
   "outputs": [
    {
     "data": {
      "text/plain": [
       "0.8121900700950101"
      ]
     },
     "execution_count": 18,
     "metadata": {
      "tags": []
     },
     "output_type": "execute_result"
    }
   ],
   "source": [
    "from sklearn.metrics import mean_squared_error \n",
    "mse = mean_squared_error(targs, preds)\n",
    "rmse = math.sqrt(mse)\n",
    "rmse"
   ]
  },
  {
   "cell_type": "code",
   "execution_count": null,
   "metadata": {
    "id": "Rch15_k1xadU"
   },
   "outputs": [],
   "source": []
  },
  {
   "cell_type": "markdown",
   "metadata": {
    "id": "DYbq7_x7xaQU"
   },
   "source": [
    "# References:\n",
    "\n",
    "[1] [Weininger D (1988) SMILES, a chemical language and information system. 1. Introduction to methodology and encoding rules. J Chem Inf Model 28:31–36. https ://doi.org/10.1021/ci000 57a005](https://pubs.acs.org/doi/10.1021/ci00057a005)\n",
    "\n",
    "[2] [Li, Xinhao; Fourches, Denis (2020): SMILES Pair Encoding: A Data-Driven Substructure Tokenization Algorithm for Deep Learning. ChemRxiv. Preprint. https://doi.org/10.26434/chemrxiv.12339368.v1](https://chemrxiv.org/articles/SMILES_Pair_Encoding_A_Data-Driven_Substructure_Tokenization_Algorithm_for_Deep_Learning/12339368)\n",
    "\n",
    "[3] [Li, X., Fourches, D. Inductive transfer learning for molecular activity prediction: Next-Gen QSAR Models with MolPMoFiT. J Cheminform 12, 27 (2020). https://doi.org/10.1186/s13321-020-00430-x](https://jcheminf.biomedcentral.com/articles/10.1186/s13321-020-00430-x)\n",
    "\n",
    "[4] [Marcos Santana, Floriano Paes Silva. De Novo Design and Bioactivity Prediction of SARS-CoV-2 Main Protease Inhibitors Using ULMFit (2020)](https://www.researchgate.net/publication/346223430_De_Novo_Design_and_Bioactivity_Prediction_of_SARS-CoV-2_Main_Protease_Inhibitors_Using_ULMFit)\n",
    "\n",
    "[5] [Howard J, Ruder S (2018) Universal language model fine-tuning for text\n",
    "classification. http://arxiv .org/abs/1801.06146](https://arxiv.org/abs/1801.06146)\n",
    "\n",
    "[6] [Smith LN (2018) A disciplined approach to neural network hyper-parameters:\n",
    "Part 1: learning rate, batch size, momentum, and weight decay. http://arxiv .org/abs/1803.09820](https://arxiv.org/abs/1803.09820)"
   ]
  },
  {
   "cell_type": "code",
   "execution_count": null,
   "metadata": {},
   "outputs": [],
   "source": []
  }
 ],
 "metadata": {
  "accelerator": "GPU",
  "colab": {
   "collapsed_sections": [],
   "name": "2_Fine-Tune_Lipophilicity.ipynb",
   "provenance": []
  },
  "kernelspec": {
   "display_name": "Python 3",
   "language": "python",
   "name": "python3"
  },
  "language_info": {
   "codemirror_mode": {
    "name": "ipython",
    "version": 3
   },
   "file_extension": ".py",
   "mimetype": "text/x-python",
   "name": "python",
   "nbconvert_exporter": "python",
   "pygments_lexer": "ipython3",
   "version": "3.8.5"
  }
 },
 "nbformat": 4,
 "nbformat_minor": 1
}
